{
  "nbformat": 4,
  "nbformat_minor": 0,
  "metadata": {
    "colab": {
      "provenance": []
    },
    "kernelspec": {
      "name": "python3",
      "display_name": "Python 3"
    },
    "language_info": {
      "name": "python"
    },
    "accelerator": "GPU",
    "gpuClass": "standard"
  },
  "cells": [
    {
      "cell_type": "markdown",
      "source": [
        "# 이진분류 손실함수로부터 다중 분류의 손실함수 도출"
      ],
      "metadata": {
        "id": "oULlNkYGYcFU"
      }
    },
    {
      "cell_type": "markdown",
      "source": [
        "![image.png](data:image/png;base64,iVBORw0KGgoAAAANSUhEUgAAAqUAAABoCAYAAADIMYlxAAAAAXNSR0IArs4c6QAAAARnQU1BAACxjwv8YQUAAAAJcEhZcwAADsMAAA7DAcdvqGQAACaRSURBVHhe7Z0HmBTV0oYLUARUQAQFyRIWSQKSJEhQRIKCyDWgEhRRf9MF4SJBRS5Rck5XESWHBSWzAoJkyUoGMQEKGEAEs39/tX2W2aFntmfZnZ7Z/V6feRh7zsz0Tp9T5zt1qqozFCsZ848QQgghhBDiIRntfwkhhBBCCPEMilJCCCGEEOI5FKWEEEIIIcRzKEoJIYQQQojnUJQSQgghhBDPoSglhBBCCCGeQ1FKCCGEEEI8h6KUEEIIIYR4DkUpIYQQQgjxHIpSQgghhBDiORSlhBBCCCHEcyhKCSGEEEKI51CUEkIIIYQQz6EoJYQQQgghnkNRSgghhBBCPIeilBBCCCGEeA5FKSGEEEII8RyKUkIIIYQQ4jkUpYQQQgghxHMoSgkhhBBCiOdQlBJCCCGEEM+hKCWEEEIIIZ5DUUoIIYQQQjyHopQQQgghhHgORSkhhBBCCPEcilJCCCGEEOI5FKWEEEIIIcRzKEoJIYQQQojnUJQSQgghhBDPoSglhBBCCCGeQ1FKCCGEEEI8h6KUEEIIIYR4DkUpIYQQQgjxHIpSQgghhBDiORSlhBBCCCHEcyhKCSGEEEKI51CUEkIIIYQQz6EoJYQQQgghnkNRSgghhBBCPIeilBBCCCGEeA5FKSGEEEII8RyKUkIIIYQQ4jkUpYQQQgghxHMoSgkhhBBCiOdQlBJCCCGEEM+hKCWEEEIIIZ5DUUoIIYQQQjyHopQQQgghhHgORSkhhBBCCPEcitII4+qrr5aJ48ZJ3PJlUqtmDftoeChYsKAsiJ0ns2fOkOLFi9tHSZ/evWXdmo/kXw88YB8hyQW/4drVq6Vfn//aR1KHF194XtavXSMvPv+8fSQ68HL8ewX6BMYXxllaIlx9Pa1Q5447ZNniRfLWpIn2kdTBbX9z2y5abU2kkqFYyZh/7OfEYzAhjRk5UipXvk0mvzNFhgwbpsffj42VMmVK63N/NmzcKK3btpN335ksNW6/3T6amAMHD0qTe+/T5++89ZbUqlVTn/uybt16afvkk9Lq4Yfl5U6d5PiJ49Lx5c5y+PBhu0X65M0BA6RJ40ayZOlS6dL1FftoyjJk8CCpX7euZMqUSa666ir58ccfpWu37rJm7Vq7RXioUrmyDBsyWPLmzWsfScyvv/4qQ4ePkCus84QhzpIli/1KYr799lvtO59s3WofiQd9q1Onjvr6vzu97Ni3JowbK3fWr2//X2J++eUXef2N3rLg/fcDjglzjrNmz5axo0dJpYoV5e3J78iwESPsFpFLoPGfHhg0cIA0btRIFi9ZKv95JXnj7L0p70j5cuUkQ8aMktXqm198+aU83qat9rdw46avRxuLF34gMSVL2v+XmL/++kvemzpNtm3fLv/t/YbkzJHDfiUxP//8szWG35APFi6yj8QDQdr7jV6Sybp2PV59zdH2dWjfPqjdmT13rnTv0VN6vfaqtHrkEclofZY/y1eskOdeeNF1f3PTDuM22mxNJJMp1/W5e9nPicdgUDZocJd8uHKlvNbr4mX57rtvZePGTRITEyM5smeXPy0DsGjxEplkCczFS5bIdydPWsbvOxWoxYoVk1zXXafvW7d+vYwcPUbmzp2nbQD+PXnyO/2sK664Qo3IuPHjZebsOfLDDz/Ip599JrmvzyX1LJFU3PqsuA8/lD/++EPfm96AAXzk4Yfksz17VGSl1u9Q7OabLTH1mxQqVFBF6bFjx2W4JU7C/bsfP35cjn5xVNZ+vE6KFikq11v94J9//pGVq1bJ2PETVJgvWbpMJ/u9+/ap6CxdurRcnS2bnuuMmTPlXWtimr/gfdm8ZYv9qfHcXr26dH+lq2TMkEEGDHzzEsFq+Oqrr6zXtln/fi233FJKrrzySvn7779l9UdrZNTo0fovvuvEiRNSqGBByZcvr46Hffv2W9/9nsyeM0fPEQIW161enbpSvVpVnQzRtyOZQOPfiWb33Sc9u3fT67P/wAH7aPQC23X77dXVO5w1S1bZuGmT/Yo7IAwKFy4sv/32mxSx/sUCb5/VRyGUwo3bvg6qVa2qntQb8uRRWxzJHD16VK/TtddeKwULFNBju3btksFDh8my5ctlkTUXHTp0SI4cOSyrVn8kJUuUlJw5c+r4XbZ8hUyYOMkSox9YwjBO32soWqSIClkshkePHSvvf7DQfiUxxyz7BLuzYcNGKVGyhGS35kLwxRdfWucwVIUj5rBvLPt51VWZpaQloCFMsTBYuGixTLYWLfgXbdz2NzftYI+izdZEMty+DwMdX3pJtm7ZLLFz5+gAdAJbBXff1cASoN/J2++8Yx+NBxPxnHnz5Ldff9X//8ca5F99/ZV6jHZ/+qkew2DB/+P9huPWxO3bBqDd7k8/U+O9afNmad/haZk5a3ailfyIUaPVuFStUkWeav+kfTR9gYkF1wRicdr06SpyUotxluCLnT9fvXwA1zY1vy8Y6GuYaDJnvlL/H/1k+/Yd2o8wseC8YOQXLV6sHt0slogG33//vU4KaOdkuJ9+6im54YYbdEJaEZd4UvIFfRWfMWrMGJ0EASYWa35P+H6ACeqaa67RCWCoNSk2a9FCxk+YmKgN+vTc2Hkq9B99tFXAsRcJBBv/BgivFvc3lymT31YhU/m226RIkcL2q9ENrhnGGcYb/kaMv1DA+98cNFg9bH/8+acKoc8//9x+Nby46ev3NLxbRlsLz4njx0nNGjWkSNHI7ZsGM8dgPAH8xhBfOAZ7ALuA64AxeOzYMcmSJb4djsV9GKftYF/86dDhKUvAlpDN1nw05d337KOXYuzOdGvxu3btx/r94ErLVmFhZuYw/HtVliyWzcig1+CeJk11kQfvrGnjtr+5bRdNtibSoShNZTCR3N2ggW5n4PnJU6fsVxLTosX91gr0GlmzZq3s3LnLPpqYs9YEDOAFcNoewedny5rN/r/AtLQmcDBt+gwddP7g2JJly3TQY+siPQ6wB//1L125b9+x/ZKtptSgTOnS6oHAqvvAgYP2UW8oV66s5MqVS5+jLxw+ckSf+1O8WPGErTQsgAJ5hB5t1UoqVaoo31qCK3bBfPtocPC9O3ftTph44PWoUOFWfY5+/mqP7lKwYAGZOm26TPzf//S4E/CUHbHOH97oli1TJiYY43nN6lXqDUspkhr/CM/ZtX2bDOzfXxeLRhikJTDOMN4g6DD+kkNMyRjduscCb8+evfbR8JFUX+/Xt48cPrBfBemd9etJtmxJ2+tIAiE+N+XLp89/tRasRwIIf3irjSdTd+A+dfYcYtu+Xp06cu7cL7JwkXs7u3XbVmtBek6f577+eqlerZo+By937CgNrTGK3Zqu3bo5znHAbX9z2y41bE16hKI0lbmjdm3Jc0Meff7FF184DhAYMogSeJ4+WnPpStJgPGnwHGV2mJSefKKdbnkabsobbzx8adP6calatYpu0QbzWC23VrtYmWKLNL0NMBjK26tXkwvW773244/to6lL8eLFJHPmzPLL+fOyb/9++6g3+IrNn86cuWQr3lC4cCHdXscWcqDJCTRt0lgn3507dwZccDmBsAFMaOBGa0JocNdd+hwxYxBmS62FU1JxlxhvGzdtFrha8f6UWGDhb8Gi8BprEZESuBn/8KYjNrF23Xoy//337aNpD4w3jDuMP4zDUClZsoR6yH6wfkvE0oebpPr6zJmzpFPnzuq9mzBpkvz555/2K9GBr9g8d+5cwm6GP0iUNXMUdjWOWnOfE82bNZPrLVF55PMjIS3+0fbgofjriwWa6SuI5X201SMaYvTfvv0CClKD2/7mpl1q2Jr0CEVpKnNLqVIac4e4N8S+OIFtuKxZs1oi8DtZtXq1ffRS/v4r3msErsh0hf0sHhiB+5reqwbZkDFT4ssLDxOMwI8//STTZ86wjzoDIwIPGeJOEcCdnoBoRywUBNGuXbvto6mLqXZwxro2+z0WpTExJVVsghPHTwQ07EUKxxtdbPEf/dx5coIBh3FOjucKW7FmMjP9EF6QRvfcI1s++UR69XaX1bxz1y6dQPPeeKPUqBF5Ge1uxj+2Ts0WaVoG4w3jDuMP4zAUfL14J0+eTBS2FA7c9HWcEwSV2UaONpBcaBasWEStW79Bn/uDsBIkRAYLo8Bvhc/Donbv3tC92tt37EgQ9fgsCNL/e/YZOW8t7AcNHuLqN3bb39y2i3RbEw1QlKYyZoJHR0WH9QdCsVRMjIrJpFb2x789YT8TyZv3RvtZPI9Zq8M8eXLLli2fJGx5+mcpIj4UiVBxcXGuPFbYRsZ2MrylocZ4RTPlypZVEfTNN9+EZWKrX6+ebkEBLAQCeRXCRQE7iQH96Isvnc8FAgCJUABhJXv3OU8qFStWkBw5cgRtEwwIU4hegMzqdm3buPaCGODlQMwrhF/ZsmXso5FBKOM/PYDxhnGH8YdxGAqlSsVIdquvod8mR+RcLpfb16MBLERNVjuuUyCMDQkm0BHmgASv5IZaIAnXJPAi3Og/XTqrl3rsuPGuK5e47W9u20WyrYkW0qwoxZbYB/Nj5dOdOzSGZ//ePbJ8yWK568477RYXQVuUu0AbtD20f59s+HitBqw7gYnktZ49NXkJbfGebVu2SI/u3fR1xH/hGB6mvA22+0aNGK7HUJbJYLb3f//9d/n666/to6EBwYjtAgR779q9W8tzgOw+24vwxDVt3ERjXpDI5IbDRw6rwbg2e3bdXk4PQPgUKlRIV++BPNug07//rdcc13Pntq3aH3xBVu3cWbNkycKFQbeFAKocoE8F86aD5PTT7t1ekY3r12lbPFBKqUvnlzU2ER5Hf3wFstuYsVMnTwX0mGCnAIuyYF6VYCAZ77Rl5AG26X766SfXXhADxCs8vhB+iPeKJFJi/EcaiMWeNGG87PvsU+1zH61aqdUCfHmiXTtZFbdCa7Kin/qCMYDxl/+mm0LaAsW1ReJdsH4LOzh08GAdu8Z279m9S5PHTMyyP7Vr1dKxjHZov2PrJ5pohgeEkDn/y+3rkQ6uBeK4QTBbhUz16+wKMMHCKCDuICLPnj2rC81QgWPloP3ZEMr47ZEngUSoUHDb39y0i2RbEy2kOVEKg4jiu6/27CH58uXTjNxaderK6tWrpYjVkV58/rkEI2Lavma1xYptlCXWbq10m4y0/kUblATCdqE/Wget1SO6lfZY6zby6OOtrQ57VFo0v1/uu7epxn91/k9XLVOB7GCwfsMGPYbH0OHD9RhAaQ0YUngkvw6y8gSnT53WdgBxOAaULcKEjUDrf6z/nIAnFZ4tZEC69TCdsr4PWyGIdSyQP94YpXXy58+vWd3YFjr9/Wn7aGLQL9q2baNbqqiKgPaNG92TSHw2b95Mbr21vBQokF/7VjDMltgF67feYwlOf5LTTzHBzpw+Tdq2bm31m1PyRPunpF//AVp2CiIWmaTI+vXHCGSA87niiis15MP/UbFSxYSYsUDeVJD3xviap/AeJAdMPIjPM5y/cEHLRoWK2WW4PleukIROahPK+I8WBvTtqyEJw4aP0EVwAWtMPfzQg/ar8YslVBvA4q+wQ/UAjDuMP4yrokWL2keTBuXJIE7Onjkj+/dfWibr0UcekWnvTtG6w/Bkwna3fOgha8zt1bGAIukmjMaABdy4MaOlRIniMmv2HKl3VwMtP4aEFzzua9pUSt9yi7a93L4e6ZSyRHeOnDn1ORZR5y+cd7QN1apWk2utaweChVFgfsb1wi5isLJZwYBnEjYBwBmDBLNQcdvf3LaLVFsTLaQpUQpjN7B/P/U+/GAZBgjAMdZKHAYQggFZ69jewQrGt+0pa9I2bSHYUI4GqzsIvYYN707UsSA669erL7+c+0UmTpqkSSDVqlXVAZstW1a52fpsUzrjupzXSVY7nhRGEsfw8B2k6OA4L3gksWIMxt//XIwpRZFh8NCDD1or05paTw0xZ8e+OZYgXJHNDS8qsoXhFUP5jmAlN/yB6MZ5ITbo2uzukjpwV6ilixapRyG5D3gknn3mafsTw8s1Vr/IbK24UVbGaXJBX2japIl6tYZYiw7jVfSndKlbdLXsxgtgYjMRs+SfpZqcfoqJFRMsPDeo99mxcxf5eN06mTxlSkL9PGyJO4k7vNeEfWDh06PbKzL4zYGXPB5s2VL7BSanw4eds/Nx7lmyXow/Sw44H4ScGJIbq/Xz2Z91HOJvg8iPFEIZ/9EAvPlYjMV9uFK2bP1E7Z8/xjsMnGKWMe4w/nCtjDc+KbDDgexo4FQJIv6mIB01JvCDhQu1qD5sNxY9yPqGsMGC7H5rMWnAQg+LOmzZ4mYMvfv00XE/b36sCinw/fc/6HelRF+PdEx+BMiWNau88NxzjrYBthvb1/AqHjx4SNs7gd8MINwhueC6X5U5sz7Hd2IxFCpu+5vbdpFqa6KFNCVKe/borqUhsGKCQDNxJfBAnD79vXaq2Nj5Kgq7vNwpoS2KgvvHoGCSAIhVgeA0INkCpVv++utPnZABxF8my3AhvmXz5ouZyibYO1A8KcidJ7duO2AFdsFe8QXi/C/nE7bm8R5M2PB44X0zZs7S4xg0MAa+oAQUJr7Zc+baR9yB2EYjcOHtcAOMdqOmTaV4TKlkP8qUv1W9zV6Qv0B+/W1RC9aUHPEFYRLIBMcdsODpMfFFBw8dSuhD2AI3Mb/BSiUB37Zff/3NJfGkyemn8IqXsPoG+tTyuBWJtrpNPFiguDdzxxb0IXiBna5Pg4b3yJe20MZkHqhkFCYMiHyAqgKhgkkLpZ8QKgDBDrDdV7VKZX0eChd+vaDXFCLwRkvYRgqhjP9o4I7atdQuopi6GSuwIRCAhgq33qrXARO309Yuxh2uFXZo3NZhhRDGGHASQtg1eOqp9iokMMYmTEpcQsx8H8QnhCnAe5o2baILvq8sm2bsK8iYIWPCODLnf7l9PRrwTYCEE8TJNuCBBCQQaOFrSAgTsm1YqJikR8zriCOGE6B8ubIheyfd9je37SLV1kQLaUaUwojgNpsQX4g7W79ho/2KqHfyDmvyr1ajpowcPVrb1rP+36mtIUf2+DqgV1qGCobJHxjAQQMHyvKlS+Q6a/X9cKtWUrf+neolBRgYxsBh0GCb4XJBjVMjSrEKa97sPk2SQMC3+V4YAghTgALCyBSsdFslWWN9P4R6WqN3r14JsWGhPpLjkUVNTGyd97euPfpbzuuu098cRtpQvnw5nQDdJFz4xpP6T9DJ6ae+7zlz5oxs23bxLjGYOE0CglMcKLzquXPHTxQofxLo3JGgYMJHUqpvO+Fb+gmC3CTwVahQQf/O1OK2SpX0nuVOfQYPeINwzeAtdnodj907dwSM9fWS1B4vTz/7f2pnUUUAyXAQerBbvqWuULYuqcV6qJh4UvTbAwcTb90jrApxgBCs2Cnwj0dGSAzGC4C3DZj3ANwZynexaMJtIKa8yqJPqo8m9Vj4/gL7k9yB/l6oYCF9DluFEAYnYEPM7xZo4ZsS+JZ+Qlk4422FZxK7RiR6STOitHbNWpInd259jpVtsOy7pNoiUNtsL8Fw+t4lCXeIgPcLwIDBGCKOZtyYMbpNbvCNvwlUn/RygBFt1LChfHPsWKIteYgXc+cnbEMj5glxre9NnarH0hq4U0eJUrc4rtiTelyuRxYeTEyup06f1lvfGbAggUchWMKFIWGCu3Ahoe6eITn9tGrlKhrLBPxLDBlvEnCKA0UyG5LawM9nzwbcljcJCiA1+jbwL/2EO8EYbylERN06dfR5aoDbPWIR69Rn8EAIBf5m3Gvb6XU8yleoqHUoI41wjRdcO4QyAZQ4M9U+MDaMaEnJ8mcmntSp395mLcrxGgQriqD7Y0JWIFpRUxPcWr68vgfC0z8z3HwX+kCgXYLUJqk+mtTj3mbN7U9yBxI3c+WKT15yslUG2AZUIADBEiAvB4Ti+ZZ+mhc7X+9ACLAwh7OARC9pRpTmuymfutVBUobCtHXa6gGVrRU+vJ8AYsB4IQGeP9zqUb2lHe7vCy8APgfi4YEW99utJGGLCltXwe7Q87slXIwHKCkgOkwsU27r+7A1sHDhooAlhCAckLjjtgRUMNLC1qIbfEMkgoFJF1v94MCBAwlxwvAo4J7PACIqqTqnJp4UReohYJHN26F9ez2WnH6KkALj2ff3vCZkJztMtMDcDQdgcvbt975gEsekDI9JsGoBmLSN1z4UnApgQ5Cbfg7Bj0kyOeB8TImpSCCU8R9NVKtaRat/oK/5eut9vexJlT/DOMR4TArfeFKEaWGR+PqrPdUew3Nn7n7nlACF8WpCcGDjPvtsT9ByZ77f5bvoS25fjxbMHecAdkdw62EnfGPSgyVAgt9+iw9/CwV8PpLPMLf5ln7yrVmKW5YmVfHECbf9zW27SLM10UKaEaXGuEMEIuPPCXRoGBzTFp3YP8MaRgqGDBPfmTNnNQYVoJOvXvmhHLQMFLJLsY3b4ZlnpHXbdhpH6Y+JJ/W9Q88zT3fQWwViUBkgRtDJkxN/gqzR96ZNs/8vHggJk/EPIHR846FCAb9DgiGyvVRJEe2JTiZEIqm4IWy7I9jff9Hhm8SBeKpAmafAN54UNfDy5c2nGb1Fb47P7ExOPzXgvI6fiPf6GBKykwNsq5m74QQSwcA3BCBQtQAD/nZ4VYDbmGR/L4jv9igmIGPkS1gTDxYGboGQwG+FXQTsJkQKlzP+IxlTz9K/rxkvO/pnoDuXYdxh/OF3wXhMCt8dACzE6tetqyWoYIt8xSIW9P7x3S0faKGLS/R5CC3c59wXCFlfb5//dxmS09ejCXPHOeAU+24wMenBEiANZ86e0X+Tqk5igM0zMeb+pZ/i/GqW1qvrfifFbX9z2y5SbU20kGZE6SFrAGBVnsEyhFmzxMcF+QIj9e7kt2VAv74asByo7TMdOkjZMmV08ps+Y4YmewAE7cPYYNL25ZprrtYkJ3zejh0XS9cULhQff2Ni7iCIW7Z4QI4fPyHzF1y8TSA8TRjAOBckUAUDhu+cZWQBhMjcufPU6AYCSSiz58wJ6o0IBsITEBOGCQTlqNwQ7YlOxhsdqB854VsVAdmfJokjUNyVAX3HGHp4OiEyUVUB3hoQrE8H6qcQwk6rc3gfTYyz07aa791wnOLyDL6T8hlUFgjiKQXGeBvvSTAgSHu/0esSL4jBt2YpvHD4vdxisoYxfoItFMJNKOM/GkHCx1/2neggKsqWKRsvVq2+s3u383VAX8fvgQX96dNJi9KcOXKqA8AsxKpUqay/KewxrvUJO9wKQsE3CQY2+V8tW+riEgKzT//+ehzCFVn1/uD8Uefa3FvfP540lL4ebeC3AoGS04DvIjtYAqQBoWfA/7o4gd9+zMiRUq1aNcfbC/vXLEVCMt7jBrf9zW27SLU10UKaEaVY4W7dtk0nddShM0Xy72l4t9Z4RKFjCLnuPV/VDo1VsW9bDLoRw4bKE+3aqmcKqzDfjg9PFib7z48e1ZI8AJNot65d1cOx+qOPZPzEiXoc4FaeAMYS2cKDBg6QnDlzaGynrzE7Zg1MeDYhTpKqBQoBCiOPVf36DesThIg/ZuJGfcdQSkD5kz//TVrSRQ3wEW8C+sMNPM3wXuG6+d81yxf0NSw4YFCRdIAA+zd6va71GPHeYHFXBpR/MoYZHsgGDe7SLH4k5gH06VD7KTwGWITgvBBfCm8RCvt3/U8XTb5C39m7f5/dOt4bjphofLYpeI1+BsOO0lf4u2DcMY7QDhOP2eLHQgVxg3gt0ASAklT4zkA1+/D9KNk22ppwRg4fJog3RCzuX1Y/9/1MnEeJ4iW0FBvA+d1xR20V2+Y8g4GaiCDYbVO9wO34N9cJD7N4wASJ5BNzHH0oUti+c4faSyxgata4XRPTYIexqAE//PBjoox8XzDuMIbcFqE3YxFx9rVr1tSFIWKRzaIGuwiw/fDwP2/XqUbpqonjxupWLxL6/tunbyK7vHL1Kj1/2PZ2bdpoAf2Z06ZqvCIcE0giNOXVDEn1dYBrZK4Xrh2uIcA1NcdDWWylJuZcn3v22QQvPnZvsGhHaUQjVOGVRDvYKBNPCg9z1qxZgo5NjEUsHrCId6r7ic/H93R/passW7xIatasofMfvt98twHngM+CaAb4PJSswnklNS7c9je37SLV1kQLmXJdn7uX/Tzq+XDlKu04iOlDPNFLL7ygky3uGQ9x1vP11xO8hnErVyZq+5hlpG6yJsQdlpDr06+/TJ2WeBsHhg+TOozq4489qp/dpEljNULTp8+Q13q9YbeM5/Tp01pCA3F8TRo3Vu/T4CFDZa6fkDx+/LiKERTRRmdPKkP+Nsvgnv35rLz19uSAt3mrVLGS9X0XZNL/3koo3ZMcWjRvLhUrVNDELnxfetmKgNcQk9Uff/wpM2c5hz7gt8fEii1vFM9u/8QT8RORNWFBEMI7M2HipKC/GV7bZwlETNzoW1jpo+/5JtaF2k/xmbjXNM6rfPny8kTbNpZwLKpbW7nsSgHLl6/QRAn8nUMGvSkt7r9fPQvwigOs9LHgQjIRPg9GHTejaNyoke4AmN0CTDZI7sN7IZ7Rl/2BgUb855WW6III9534zfdj4vDdHoRoqGCNM9yhzIxXZI0/9+wzCfGIAL9ZvXp1E84Tf5MTOP+WLR9QD+zyuLhESWnJoVSpUjoJHrL+lpWrVtlHk4fb8Y9F9ZNPtNPfG3HDAMIcNgbH8IDAudzzSSkgOLHIQY1ZFKZHpQIsZnDDBZz3ps2b9B7wTjz79NN6y+SNmzbL8hUr7KOBwVjEVnG+fHlV4Gyy3vea1V/gOQV79+3TMQWhAk8b+lHt2rXUkzXTWtS90qPnJbtJ5vxjYmKkwV13yr1Nm8r58xesMZJJY7a//PIrGTRkiN06nmB93fDSSy9Kx5de0uuFa4ffAuCamuuI8e67m+YVb7/1P130QSQb7y9sGxI8sXMIM5A1azbp36+fikdUgjF/D8Qp2uDaIwnJybuKnTiUEMM1O3To8CXjd+igQfJU+/ZS0bIvCCOD3cHCo0yZMvLH739YwnC9tsM59u3TR+uomu/HeSJ+Gb8n8i+Czatu+5ubdilta9IjGYqVjHG+BRAJG4gxfbJdO/WatO/wdLK321Oa2TNnqChdtHiJdHz5YhxsWgdelK5dOmviQzdrwvLNYDdgpY5VM4STwbwPBmnxkiXyUsdO9iveg2sJ8YjJGdnjgZKYUhoI9Qnjx+mkO2XKu1pKK9xgEdmlc2c5b4mQrt26XxIWECoQ0W+8/posXrpUulv943KJ1PF/OWD3AMlyuAGHYZgl4ppaC3ks0AcNHqx3oPMHnvj+ffuoYBk4aPAlMZ5eYvoRxPXc2Fjp1r2H/Uo8kdDXo40Z06bq4tQre+m2v7ltl9K2Jj2SZrbvoxkTpA3PU6TUWDMlXRA3GCnel3CB7XOUOoKnxKn0ELbpFy6YLwti56mgMNStc4cKUmz/44424Qb9B9tl/kH+8HSYMjzBsupTAwgseK4yZshgnUe1gNv8qQnueAYhgRjGlJgkkISFa3zOJ6HwcojE8Z9cIMxwn3jc4nbBvLnqcQfYvofnCt4u3Ho0dr5znUx4zjDukKBpwljCDcaL7/a0AYmC6EcQ1U41fCOhr0cbGI/YvUnt2sOBcNvf3LZLaVuTHqEojQAQpI1782P71Bhxr8G2B5JJtm/bniaL7gcDcUBLli7TGKXq1uTiHx+GmDVsD/mCupqIN0NM04q4uLD/ZpgAx44eJcOGDJaRw4frVq8Bd/3CFhaMv9nyCiexloCHGC5i/Y7wMoYTjCfUnMTi6oNFztvFoYLrW6defek3IGU8YZE4/pNLuXJlpVixmxNCPAD6JrasETeJMAuEO2GM+YNxhlvIYtwhxMSpTWqDcmzwdg4dPFjeHBCf+ARwXRCvir8LIVG4o5sTXvb1aATecsTR485f2O4PJ277m9t2qWFr0iMUpRHCVMtQI0YN8TJtWj9uH/UGCNIat1fXrV7cLz09glJbiHFCrN8jDz9kH40HmcMo1bR+wwY1qkgkav34YxrPFBsbmyJbuqGCuFaUVsGkicQZxNjB8zZ8KLZMmwhidBYvWSojR42Of0MYgehatGixxoPBAxVODxLicHHXLXgjI3lxFUnj/3JAQhEWP3rr41mztOzP+LFjNA4RdXsHvjkoYIImxhnG29at2xIljYYTbL3D04VcgaNHj+oxZOjj7mIYTxCcyA0IFGLhZV+PRiDw5syZq7sPDRvcfYl3OjVx29/ctosWWxPppKlEp2gGBvvs2Z81U7VUTCnZsGmTHgs3MKKIl0OttfETJ8nCdLriQ5IEij/XqF5dg9eRWYutG4DECiQpVKpUSROcSpWKUUExdNjwhMoM4UaTjCxBCg8Nrt39zZpphj6y75FkMGToMBk1ZozdOvwgZAA1KpEIgqzcjwN4mlISiDskQeAGBohhhJcuUomU8X+5wIv4tyXoypYpLfXq1tUEp+zZc+htRnv37esYnw2wEEZtYsSgojQTCtN7AUqzofRfHmuBh/6KhFbN7LbsAeIeu3R9RfbsCVybF3jR16MZVDFAkloNq+/jNsdLly23X0k93PY3t+2iydZEOkx0ijDQsTt1/LcWloYB9E0USG0gSFELDvfKnzz5HRk2YoT9SvoFWzKonYkyJD1efVU9ISR5mP5VzhL5I0ePuqxyZUlhxtEJa/x0fLmzYyZ0JOLl+PcKM8bAa6/3ShOxeOHs62mFNwcM0PJyU6dP1zsmphZu+5vbdtFqayIVitIIBJ45bCOhDFW4RWntWjV1Cy6cyTCRDraUUO4EmfY0OJdHuPqYV2MoJYjmc08OaXV80Z6GjknSXP3RGv03NXDb39y2S2/jNbWhKCWEEEIIIZ7DRCdCCCGEEOI5FKWEEEIIIcRzKEoJIYQQQojnUJQSQgghhBDPoSglhBBCCCGeQ1FKCCGEEEI8h6KUEEIIIYR4DkUpIYQQQgjxHIpSQgghhBDiORSlhBBCCCHEcyhKCSGEEEKI51CUEkIIIYQQz6EoJYQQQgghnkNRSgghhBBCPIeilBBCCCGEeA5FKSGEEEII8RyKUkIIIYQQ4jkUpYQQQgghxHMoSgkhhBBCiOdQlBJCCCGEEM+hKCWEEEIIIZ5DUUoIIYQQQjyHopQQQgghhHgORSkhhBBCCPEcilJCCCGEEOI5FKWEEEIIIcRzKEoJIYQQQojHiPw/7+L+Po4V10gAAAAASUVORK5CYII=)"
      ],
      "metadata": {
        "id": "HVDNBjr7iV9_"
      }
    },
    {
      "cell_type": "markdown",
      "source": [
        "y를 y1, (1-y)를 y2로 치환하면 (이진분류에서는 하나와, 다른 하나인데, 다중에서는 각각으로 판단"
      ],
      "metadata": {
        "id": "WKKwrsCTiaTR"
      }
    },
    {
      "cell_type": "markdown",
      "source": [
        "![image.png](data:image/png;base64,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)"
      ],
      "metadata": {
        "id": "grnlGNc6is-s"
      }
    },
    {
      "cell_type": "markdown",
      "source": [
        "![image.png](data:image/png;base64,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)"
      ],
      "metadata": {
        "id": "qabpMygKiwFE"
      }
    },
    {
      "cell_type": "markdown",
      "source": [
        "# 소프트맥스 비용함수 구현"
      ],
      "metadata": {
        "id": "6pu5aGK4jLzI"
      }
    },
    {
      "cell_type": "code",
      "execution_count": 1,
      "metadata": {
        "colab": {
          "base_uri": "https://localhost:8080/"
        },
        "id": "RPrA-G6xFcB4",
        "outputId": "653dfd8f-9e24-4cc6-ed55-27b57c8cc937"
      },
      "outputs": [
        {
          "output_type": "execute_result",
          "data": {
            "text/plain": [
              "<torch._C.Generator at 0x7f98343ac3b0>"
            ]
          },
          "metadata": {},
          "execution_count": 1
        }
      ],
      "source": [
        "import torch\n",
        "import torch.nn.functional as F\n",
        "\n",
        "torch.manual_seed(1)"
      ]
    },
    {
      "cell_type": "markdown",
      "source": [
        "로우 레벨로 구현하기"
      ],
      "metadata": {
        "id": "2la8d5AImWoB"
      }
    },
    {
      "cell_type": "code",
      "source": [
        "z = torch.FloatTensor([1, 2, 3])\n",
        "\n",
        "hypothesis = F.softmax(z, dim=0)\n",
        "print(hypothesis)"
      ],
      "metadata": {
        "colab": {
          "base_uri": "https://localhost:8080/"
        },
        "id": "4vsRJ921jRGJ",
        "outputId": "7eb6f082-6bad-4008-cb3d-779632b21077"
      },
      "execution_count": 2,
      "outputs": [
        {
          "output_type": "stream",
          "name": "stdout",
          "text": [
            "tensor([0.0900, 0.2447, 0.6652])\n"
          ]
        }
      ]
    },
    {
      "cell_type": "code",
      "source": [
        "z = torch.rand(3, 5, requires_grad=True)"
      ],
      "metadata": {
        "id": "fq6oCWYYmbhk"
      },
      "execution_count": 3,
      "outputs": []
    },
    {
      "cell_type": "code",
      "source": [
        "z"
      ],
      "metadata": {
        "colab": {
          "base_uri": "https://localhost:8080/"
        },
        "id": "ei48zvzrmkx_",
        "outputId": "3f2d34b4-ca09-4c36-a9d8-10a051a604ef"
      },
      "execution_count": 5,
      "outputs": [
        {
          "output_type": "execute_result",
          "data": {
            "text/plain": [
              "tensor([[0.7576, 0.2793, 0.4031, 0.7347, 0.0293],\n",
              "        [0.7999, 0.3971, 0.7544, 0.5695, 0.4388],\n",
              "        [0.6387, 0.5247, 0.6826, 0.3051, 0.4635]], requires_grad=True)"
            ]
          },
          "metadata": {},
          "execution_count": 5
        }
      ]
    },
    {
      "cell_type": "code",
      "source": [
        "hypothesis = F.softmax(z, dim=1)\n",
        "print(hypothesis)"
      ],
      "metadata": {
        "colab": {
          "base_uri": "https://localhost:8080/"
        },
        "id": "oqIFdH0Lmotz",
        "outputId": "50d84fb6-5a81-4452-8098-57eaca386114"
      },
      "execution_count": 6,
      "outputs": [
        {
          "output_type": "stream",
          "name": "stdout",
          "text": [
            "tensor([[0.2645, 0.1639, 0.1855, 0.2585, 0.1277],\n",
            "        [0.2430, 0.1624, 0.2322, 0.1930, 0.1694],\n",
            "        [0.2226, 0.1986, 0.2326, 0.1594, 0.1868]], grad_fn=<SoftmaxBackward0>)\n"
          ]
        }
      ]
    },
    {
      "cell_type": "code",
      "source": [
        "# 레이블 만들기\n",
        "\n",
        "y = torch.randint(5, (3,)).long()\n",
        "print(y)"
      ],
      "metadata": {
        "colab": {
          "base_uri": "https://localhost:8080/"
        },
        "id": "uzs4FCB_mwqC",
        "outputId": "e24639d1-017d-4feb-ad9f-64bbc8fa588b"
      },
      "execution_count": 8,
      "outputs": [
        {
          "output_type": "stream",
          "name": "stdout",
          "text": [
            "tensor([2, 1, 0])\n"
          ]
        }
      ]
    },
    {
      "cell_type": "code",
      "source": [
        "y_one_hot = torch.zeros_like(hypothesis) \n",
        "y_one_hot.scatter_(1, y.unsqueeze(1), 1)"
      ],
      "metadata": {
        "colab": {
          "base_uri": "https://localhost:8080/"
        },
        "id": "OUmhbx8xn-rm",
        "outputId": "a55ce0f9-08c9-463c-f3f8-2200d6368a85"
      },
      "execution_count": 9,
      "outputs": [
        {
          "output_type": "execute_result",
          "data": {
            "text/plain": [
              "tensor([[0., 0., 1., 0., 0.],\n",
              "        [0., 1., 0., 0., 0.],\n",
              "        [1., 0., 0., 0., 0.]])"
            ]
          },
          "metadata": {},
          "execution_count": 9
        }
      ]
    },
    {
      "cell_type": "code",
      "source": [
        "# 비용함수\n",
        "\n",
        "cost = (y_one_hot * -torch.log(hypothesis)).sum(dim=1).mean()\n",
        "print(cost)"
      ],
      "metadata": {
        "colab": {
          "base_uri": "https://localhost:8080/"
        },
        "id": "KXCfuxMGoOln",
        "outputId": "134ac61b-1338-45b9-a9ed-f172c6f3c2df"
      },
      "execution_count": 14,
      "outputs": [
        {
          "output_type": "stream",
          "name": "stdout",
          "text": [
            "tensor(1.6682, grad_fn=<MeanBackward0>)\n"
          ]
        }
      ]
    },
    {
      "cell_type": "markdown",
      "source": [
        "하이 레벨로 구현하기"
      ],
      "metadata": {
        "id": "3MMwJeEPpdDx"
      }
    },
    {
      "cell_type": "code",
      "source": [
        "# 소프트맥스의 결과에 로그를 따로 취하지 않고,바로 해결하는 함수\n",
        "\n",
        "F.log_softmax(z, dim=1)"
      ],
      "metadata": {
        "colab": {
          "base_uri": "https://localhost:8080/"
        },
        "id": "qROmtfNYohaj",
        "outputId": "e22928a1-61eb-456f-8f2f-2b0012ab03eb"
      },
      "execution_count": 15,
      "outputs": [
        {
          "output_type": "execute_result",
          "data": {
            "text/plain": [
              "tensor([[-1.3301, -1.8084, -1.6846, -1.3530, -2.0584],\n",
              "        [-1.4147, -1.8174, -1.4602, -1.6450, -1.7758],\n",
              "        [-1.5025, -1.6165, -1.4586, -1.8360, -1.6776]],\n",
              "       grad_fn=<LogSoftmaxBackward0>)"
            ]
          },
          "metadata": {},
          "execution_count": 15
        }
      ]
    },
    {
      "cell_type": "code",
      "source": [
        "(y_one_hot * -torch.log(F.softmax(z, dim=1))).sum(dim=1).mean()"
      ],
      "metadata": {
        "colab": {
          "base_uri": "https://localhost:8080/"
        },
        "id": "W-zv4GdRppPt",
        "outputId": "23971678-3201-4a68-a274-1557c7b26612"
      },
      "execution_count": 16,
      "outputs": [
        {
          "output_type": "execute_result",
          "data": {
            "text/plain": [
              "tensor(1.6682, grad_fn=<MeanBackward0>)"
            ]
          },
          "metadata": {},
          "execution_count": 16
        }
      ]
    },
    {
      "cell_type": "code",
      "source": [
        "(y_one_hot * - F.log_softmax(z, dim=1)).sum(dim=1).mean()"
      ],
      "metadata": {
        "colab": {
          "base_uri": "https://localhost:8080/"
        },
        "id": "rWNQKwMzpznW",
        "outputId": "1a364d5d-5c7e-4d65-b01e-7d06ec2974ff"
      },
      "execution_count": 17,
      "outputs": [
        {
          "output_type": "execute_result",
          "data": {
            "text/plain": [
              "tensor(1.6682, grad_fn=<MeanBackward0>)"
            ]
          },
          "metadata": {},
          "execution_count": 17
        }
      ]
    },
    {
      "cell_type": "code",
      "source": [
        "# 원-핫 벡터를 넣을 필요도 없이 해결하는 함수\n",
        "\n",
        "F.nll_loss(F.log_softmax(z, dim=1), y)"
      ],
      "metadata": {
        "colab": {
          "base_uri": "https://localhost:8080/"
        },
        "id": "I_9LaTmHp3xE",
        "outputId": "0b0460e1-cc24-44b5-fb35-61c162a1b681"
      },
      "execution_count": 18,
      "outputs": [
        {
          "output_type": "execute_result",
          "data": {
            "text/plain": [
              "tensor(1.6682, grad_fn=<NllLossBackward0>)"
            ]
          },
          "metadata": {},
          "execution_count": 18
        }
      ]
    },
    {
      "cell_type": "code",
      "source": [
        "y"
      ],
      "metadata": {
        "colab": {
          "base_uri": "https://localhost:8080/"
        },
        "id": "IdaXir9mqCph",
        "outputId": "90a8b52d-d24a-4988-9d3d-a30c01538b49"
      },
      "execution_count": 19,
      "outputs": [
        {
          "output_type": "execute_result",
          "data": {
            "text/plain": [
              "tensor([2, 1, 0])"
            ]
          },
          "metadata": {},
          "execution_count": 19
        }
      ]
    },
    {
      "cell_type": "code",
      "source": [
        "y_one_hot"
      ],
      "metadata": {
        "colab": {
          "base_uri": "https://localhost:8080/"
        },
        "id": "7jRFr-rIqFV9",
        "outputId": "0af8f778-f5c2-4705-f747-8e1525950c1a"
      },
      "execution_count": 20,
      "outputs": [
        {
          "output_type": "execute_result",
          "data": {
            "text/plain": [
              "tensor([[0., 0., 1., 0., 0.],\n",
              "        [0., 1., 0., 0., 0.],\n",
              "        [1., 0., 0., 0., 0.]])"
            ]
          },
          "metadata": {},
          "execution_count": 20
        }
      ]
    },
    {
      "cell_type": "code",
      "source": [
        "# 가장 간단하게. F.cross_entropy 비용함수에 소프트맥스 함수까지 포함\n",
        "\n",
        "F.cross_entropy(z, y)\n"
      ],
      "metadata": {
        "colab": {
          "base_uri": "https://localhost:8080/"
        },
        "id": "921RFyJQqQum",
        "outputId": "3c69174b-61c2-494b-9693-89d100449858"
      },
      "execution_count": 21,
      "outputs": [
        {
          "output_type": "execute_result",
          "data": {
            "text/plain": [
              "tensor(1.6682, grad_fn=<NllLossBackward0>)"
            ]
          },
          "metadata": {},
          "execution_count": 21
        }
      ]
    },
    {
      "cell_type": "markdown",
      "source": [
        "# 소프트맥스 회귀 구현"
      ],
      "metadata": {
        "id": "eXvEY4k1t1OR"
      }
    },
    {
      "cell_type": "code",
      "source": [
        "import torch\n",
        "import torch.nn as nn\n",
        "import torch.nn.functional as F\n",
        "import torch.optim as optim"
      ],
      "metadata": {
        "id": "3b1wcQMLrn6D"
      },
      "execution_count": 22,
      "outputs": []
    },
    {
      "cell_type": "code",
      "source": [
        "torch.manual_seed(1)"
      ],
      "metadata": {
        "colab": {
          "base_uri": "https://localhost:8080/"
        },
        "id": "TRSomvTHt5Qf",
        "outputId": "f6b6aec0-98f7-4ff7-ce13-669d877f7fd6"
      },
      "execution_count": 23,
      "outputs": [
        {
          "output_type": "execute_result",
          "data": {
            "text/plain": [
              "<torch._C.Generator at 0x7f98343ac3b0>"
            ]
          },
          "metadata": {},
          "execution_count": 23
        }
      ]
    },
    {
      "cell_type": "code",
      "source": [
        "x_train = [[1, 2, 1, 1],\n",
        "           [2, 1, 3, 2],\n",
        "           [3, 1, 3, 4],\n",
        "           [4, 1, 5, 5],\n",
        "           [1, 7, 5, 5],\n",
        "           [1, 2, 5, 6],\n",
        "           [1, 6, 6, 6],\n",
        "           [1, 7, 7, 7]]\n",
        "y_train = [2, 2, 2, 1, 1, 1, 0, 0]\n",
        "x_train = torch.FloatTensor(x_train)\n",
        "y_train = torch.LongTensor(y_train)"
      ],
      "metadata": {
        "id": "X4jyw6GKt6Y0"
      },
      "execution_count": 24,
      "outputs": []
    },
    {
      "cell_type": "code",
      "source": [
        "print(x_train.shape)\n",
        "print(y_train.shape)"
      ],
      "metadata": {
        "colab": {
          "base_uri": "https://localhost:8080/"
        },
        "id": "eOoa_XNXt7oc",
        "outputId": "41d29c0f-1074-4aed-d9fe-088c1d375d55"
      },
      "execution_count": 25,
      "outputs": [
        {
          "output_type": "stream",
          "name": "stdout",
          "text": [
            "torch.Size([8, 4])\n",
            "torch.Size([8])\n"
          ]
        }
      ]
    },
    {
      "cell_type": "code",
      "source": [
        "y_one_hot = torch.zeros(8, 3)\n",
        "y_one_hot.scatter_(1, y_train.unsqueeze(1), 1)\n",
        "print(y_one_hot.shape)"
      ],
      "metadata": {
        "colab": {
          "base_uri": "https://localhost:8080/"
        },
        "id": "cTKHBi2DuBER",
        "outputId": "924a68db-79c3-4ed5-b3d3-ee81307bd375"
      },
      "execution_count": 26,
      "outputs": [
        {
          "output_type": "stream",
          "name": "stdout",
          "text": [
            "torch.Size([8, 3])\n"
          ]
        }
      ]
    },
    {
      "cell_type": "code",
      "source": [
        "y_one_hot"
      ],
      "metadata": {
        "colab": {
          "base_uri": "https://localhost:8080/"
        },
        "id": "DiVBHYkjuKw3",
        "outputId": "a2f48868-cc93-470c-e56e-0f11245c2e1c"
      },
      "execution_count": 27,
      "outputs": [
        {
          "output_type": "execute_result",
          "data": {
            "text/plain": [
              "tensor([[0., 0., 1.],\n",
              "        [0., 0., 1.],\n",
              "        [0., 0., 1.],\n",
              "        [0., 1., 0.],\n",
              "        [0., 1., 0.],\n",
              "        [0., 1., 0.],\n",
              "        [1., 0., 0.],\n",
              "        [1., 0., 0.]])"
            ]
          },
          "metadata": {},
          "execution_count": 27
        }
      ]
    },
    {
      "cell_type": "code",
      "source": [
        "# 모델 초기화\n",
        "W = torch.zeros((4, 3), requires_grad=True)\n",
        "b = torch.zeros(1, requires_grad=True)\n",
        "# optimizer 설정\n",
        "optimizer = optim.SGD([W, b], lr=0.1)"
      ],
      "metadata": {
        "id": "uuvPz8MNuNOT"
      },
      "execution_count": 28,
      "outputs": []
    },
    {
      "cell_type": "code",
      "source": [
        "nb_epochs = 1000\n",
        "for epoch in range(nb_epochs + 1):\n",
        "\n",
        "    # 가설\n",
        "    hypothesis = F.softmax(x_train.matmul(W) + b, dim=1) \n",
        "\n",
        "    # 비용 함수\n",
        "    cost = (y_one_hot * -torch.log(hypothesis)).sum(dim=1).mean()\n",
        "\n",
        "    # cost로 H(x) 개선\n",
        "    optimizer.zero_grad()\n",
        "    cost.backward()\n",
        "    optimizer.step()\n",
        "\n",
        "    # 100번마다 로그 출력\n",
        "    if epoch % 100 == 0:\n",
        "        print('Epoch {:4d}/{} Cost: {:.6f}'.format(\n",
        "            epoch, nb_epochs, cost.item()\n",
        "        ))"
      ],
      "metadata": {
        "colab": {
          "base_uri": "https://localhost:8080/"
        },
        "id": "9h7trcypuhwE",
        "outputId": "26b5beb8-2a82-4d73-e2db-2fea429da459"
      },
      "execution_count": 29,
      "outputs": [
        {
          "output_type": "stream",
          "name": "stdout",
          "text": [
            "Epoch    0/1000 Cost: 1.098612\n",
            "Epoch  100/1000 Cost: 0.761050\n",
            "Epoch  200/1000 Cost: 0.689991\n",
            "Epoch  300/1000 Cost: 0.643229\n",
            "Epoch  400/1000 Cost: 0.604117\n",
            "Epoch  500/1000 Cost: 0.568255\n",
            "Epoch  600/1000 Cost: 0.533922\n",
            "Epoch  700/1000 Cost: 0.500291\n",
            "Epoch  800/1000 Cost: 0.466908\n",
            "Epoch  900/1000 Cost: 0.433507\n",
            "Epoch 1000/1000 Cost: 0.399962\n"
          ]
        }
      ]
    },
    {
      "cell_type": "code",
      "source": [
        "# 모델 초기화\n",
        "W = torch.zeros((4, 3), requires_grad=True)\n",
        "b = torch.zeros(1, requires_grad=True)\n",
        "# optimizer 설정\n",
        "optimizer = optim.SGD([W, b], lr=0.1)\n",
        "\n",
        "nb_epochs = 1000\n",
        "for epoch in range(nb_epochs + 1):\n",
        "\n",
        "    # Cost 계산\n",
        "    z = x_train.matmul(W) + b\n",
        "    cost = F.cross_entropy(z, y_train)\n",
        "\n",
        "    # cost로 H(x) 개선\n",
        "    optimizer.zero_grad()\n",
        "    cost.backward()\n",
        "    optimizer.step()\n",
        "\n",
        "    # 100번마다 로그 출력\n",
        "    if epoch % 100 == 0:\n",
        "        print('Epoch {:4d}/{} Cost: {:.6f}'.format(\n",
        "            epoch, nb_epochs, cost.item()\n",
        "        ))"
      ],
      "metadata": {
        "colab": {
          "base_uri": "https://localhost:8080/"
        },
        "id": "Ri15mIL6uk6L",
        "outputId": "aaf2a703-ed0b-4ca9-ca76-58aa0ff91628"
      },
      "execution_count": 30,
      "outputs": [
        {
          "output_type": "stream",
          "name": "stdout",
          "text": [
            "Epoch    0/1000 Cost: 1.098612\n",
            "Epoch  100/1000 Cost: 0.761050\n",
            "Epoch  200/1000 Cost: 0.689991\n",
            "Epoch  300/1000 Cost: 0.643229\n",
            "Epoch  400/1000 Cost: 0.604117\n",
            "Epoch  500/1000 Cost: 0.568256\n",
            "Epoch  600/1000 Cost: 0.533922\n",
            "Epoch  700/1000 Cost: 0.500291\n",
            "Epoch  800/1000 Cost: 0.466908\n",
            "Epoch  900/1000 Cost: 0.433507\n",
            "Epoch 1000/1000 Cost: 0.399962\n"
          ]
        }
      ]
    },
    {
      "cell_type": "markdown",
      "source": [
        "# 소프트맥스 회귀 nn.Module로 구현하기"
      ],
      "metadata": {
        "id": "Vw9buIs1u9m9"
      }
    },
    {
      "cell_type": "code",
      "source": [
        "class SoftmaxClassifierModel(nn.Module):\n",
        "    def __init__(self):\n",
        "        super().__init__()\n",
        "        self.linear = nn.Linear(4, 3) # Output이 3!\n",
        "\n",
        "    def forward(self, x):\n",
        "        return self.linear(x)"
      ],
      "metadata": {
        "id": "HQk44O3lu7_Y"
      },
      "execution_count": 32,
      "outputs": []
    },
    {
      "cell_type": "code",
      "source": [
        "model = SoftmaxClassifierModel()"
      ],
      "metadata": {
        "id": "sXrPY4AMvB86"
      },
      "execution_count": 33,
      "outputs": []
    },
    {
      "cell_type": "code",
      "source": [
        "# optimizer 설정\n",
        "optimizer = optim.SGD(model.parameters(), lr=0.1)\n",
        "\n",
        "nb_epochs = 1000\n",
        "for epoch in range(nb_epochs + 1):\n",
        "\n",
        "    # H(x) 계산\n",
        "    prediction = model(x_train)\n",
        "\n",
        "    # cost 계산\n",
        "    cost = F.cross_entropy(prediction, y_train)\n",
        "\n",
        "    # cost로 H(x) 개선\n",
        "    optimizer.zero_grad()\n",
        "    cost.backward()\n",
        "    optimizer.step()\n",
        "\n",
        "    # 20번마다 로그 출력\n",
        "    if epoch % 100 == 0:\n",
        "        print('Epoch {:4d}/{} Cost: {:.6f}'.format(\n",
        "            epoch, nb_epochs, cost.item()\n",
        "        ))"
      ],
      "metadata": {
        "colab": {
          "base_uri": "https://localhost:8080/"
        },
        "id": "OgWt1EI8vObB",
        "outputId": "fdbe42ca-d615-4335-f260-b570942b8fa0"
      },
      "execution_count": 34,
      "outputs": [
        {
          "output_type": "stream",
          "name": "stdout",
          "text": [
            "Epoch    0/1000 Cost: 2.637636\n",
            "Epoch  100/1000 Cost: 0.647903\n",
            "Epoch  200/1000 Cost: 0.564643\n",
            "Epoch  300/1000 Cost: 0.511043\n",
            "Epoch  400/1000 Cost: 0.467249\n",
            "Epoch  500/1000 Cost: 0.428281\n",
            "Epoch  600/1000 Cost: 0.391924\n",
            "Epoch  700/1000 Cost: 0.356742\n",
            "Epoch  800/1000 Cost: 0.321577\n",
            "Epoch  900/1000 Cost: 0.285617\n",
            "Epoch 1000/1000 Cost: 0.250818\n"
          ]
        }
      ]
    },
    {
      "cell_type": "code",
      "source": [],
      "metadata": {
        "id": "5tjVPOOSvSzG"
      },
      "execution_count": null,
      "outputs": []
    }
  ]
}