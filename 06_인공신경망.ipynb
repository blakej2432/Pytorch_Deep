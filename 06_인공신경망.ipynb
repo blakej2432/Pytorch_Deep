{
  "nbformat": 4,
  "nbformat_minor": 0,
  "metadata": {
    "colab": {
      "provenance": []
    },
    "kernelspec": {
      "name": "python3",
      "display_name": "Python 3"
    },
    "language_info": {
      "name": "python"
    }
  },
  "cells": [
    {
      "cell_type": "markdown",
      "source": [
        "# 단층 퍼셉트론\n"
      ],
      "metadata": {
        "id": "mUOFAQ__BflO"
      }
    },
    {
      "cell_type": "code",
      "execution_count": 1,
      "metadata": {
        "id": "6zQvGebh7nAR"
      },
      "outputs": [],
      "source": [
        "def AND_gate(x1, x2):\n",
        "    w1=0.5\n",
        "    w2=0.5\n",
        "    b=-0.7\n",
        "    result = x1*w1 + x2*w2 + b\n",
        "    if result <= 0:\n",
        "        return 0\n",
        "    else:\n",
        "        return 1"
      ]
    },
    {
      "cell_type": "code",
      "source": [
        "AND_gate(0, 0), AND_gate(0, 1), AND_gate(1, 0), AND_gate(1, 1)"
      ],
      "metadata": {
        "colab": {
          "base_uri": "https://localhost:8080/"
        },
        "id": "wnyDr90lBjcZ",
        "outputId": "a4e8910a-0789-45d9-85ec-b29d357cb2fe"
      },
      "execution_count": 2,
      "outputs": [
        {
          "output_type": "execute_result",
          "data": {
            "text/plain": [
              "(0, 0, 0, 1)"
            ]
          },
          "metadata": {},
          "execution_count": 2
        }
      ]
    },
    {
      "cell_type": "code",
      "source": [
        "def NAND_gate(x1, x2):\n",
        "    w1=-0.5\n",
        "    w2=-0.5\n",
        "    b=0.7\n",
        "    result = x1*w1 + x2*w2 + b\n",
        "    if result <= 0:\n",
        "        return 0\n",
        "    else:\n",
        "        return 1"
      ],
      "metadata": {
        "id": "uI9wQnrgBl7d"
      },
      "execution_count": 3,
      "outputs": []
    },
    {
      "cell_type": "code",
      "source": [
        "NAND_gate(0, 0), NAND_gate(0, 1), NAND_gate(1, 0), NAND_gate(1, 1)"
      ],
      "metadata": {
        "colab": {
          "base_uri": "https://localhost:8080/"
        },
        "id": "1xUegkL1Brxz",
        "outputId": "2347edbb-4028-4b91-c0d2-1f12bf287840"
      },
      "execution_count": 4,
      "outputs": [
        {
          "output_type": "execute_result",
          "data": {
            "text/plain": [
              "(1, 1, 1, 0)"
            ]
          },
          "metadata": {},
          "execution_count": 4
        }
      ]
    },
    {
      "cell_type": "code",
      "source": [
        "def OR_gate(x1, x2):\n",
        "    w1=0.6\n",
        "    w2=0.6\n",
        "    b=-0.5\n",
        "    result = x1*w1 + x2*w2 + b\n",
        "    if result <= 0:\n",
        "        return 0\n",
        "    else:\n",
        "        return 1"
      ],
      "metadata": {
        "id": "8SiLkYKEBst0"
      },
      "execution_count": 5,
      "outputs": []
    },
    {
      "cell_type": "code",
      "source": [
        "OR_gate(0, 0), OR_gate(0, 1), OR_gate(1, 0), OR_gate(1, 1)\n"
      ],
      "metadata": {
        "colab": {
          "base_uri": "https://localhost:8080/"
        },
        "id": "ppn9ap1_Bvpo",
        "outputId": "f62ae52f-6adf-414e-acc7-83a4f59b23f8"
      },
      "execution_count": 6,
      "outputs": [
        {
          "output_type": "execute_result",
          "data": {
            "text/plain": [
              "(0, 1, 1, 1)"
            ]
          },
          "metadata": {},
          "execution_count": 6
        }
      ]
    },
    {
      "cell_type": "code",
      "source": [
        "import torch\n",
        "import torch.nn as nn\n",
        "\n",
        "device = 'cuda' if torch.cuda.is_available() else 'cpu'\n",
        "torch.manual_seed(777)\n",
        "if device == 'cuda':\n",
        "    torch.cuda.manual_seed_all(777)"
      ],
      "metadata": {
        "id": "km5b7e1WBwdZ"
      },
      "execution_count": 10,
      "outputs": []
    },
    {
      "cell_type": "code",
      "source": [
        "X = torch.FloatTensor([[0, 0], [0, 1], [1, 0], [1, 1]]).to(device)\n",
        "Y = torch.FloatTensor([[0], [1], [1], [0]]).to(device)"
      ],
      "metadata": {
        "id": "NXos3kZGCarY"
      },
      "execution_count": 11,
      "outputs": []
    },
    {
      "cell_type": "code",
      "source": [
        "linear = nn.Linear(2, 1, bias=True)\n",
        "sigmoid = nn.Sigmoid()\n",
        "model = nn.Sequential(linear, sigmoid).to(device)"
      ],
      "metadata": {
        "id": "Au-XHBoXCb0w"
      },
      "execution_count": 12,
      "outputs": []
    },
    {
      "cell_type": "code",
      "source": [
        "# 비용 함수와 옵티마이저 정의\n",
        "criterion = torch.nn.BCELoss().to(device)\n",
        "optimizer = torch.optim.SGD(model.parameters(), lr=1)"
      ],
      "metadata": {
        "id": "Fkm2TWVkCdFW"
      },
      "execution_count": 13,
      "outputs": []
    },
    {
      "cell_type": "code",
      "source": [
        "#10,001번의 에포크 수행. 0번 에포크부터 10,000번 에포크까지.\n",
        "for step in range(10001): \n",
        "    optimizer.zero_grad()\n",
        "    hypothesis = model(X)\n",
        "\n",
        "    # 비용 함수\n",
        "    cost = criterion(hypothesis, Y)\n",
        "    cost.backward()\n",
        "    optimizer.step()\n",
        "\n",
        "    if step % 100 == 0: # 100번째 에포크마다 비용 출력\n",
        "        print(step, cost.item())"
      ],
      "metadata": {
        "id": "FFcVGLFxCp_Y"
      },
      "execution_count": null,
      "outputs": []
    },
    {
      "cell_type": "code",
      "source": [
        "with torch.no_grad():\n",
        "    hypothesis = model(X)\n",
        "    predicted = (hypothesis > 0.5).float()\n",
        "    accuracy = (predicted == Y).float().mean()\n",
        "    print('모델의 출력값(Hypothesis): ', hypothesis.detach().cpu().numpy())\n",
        "    print('모델의 예측값(Predicted): ', predicted.detach().cpu().numpy())\n",
        "    print('실제값(Y): ', Y.cpu().numpy())\n",
        "    print('정확도(Accuracy): ', accuracy.item())"
      ],
      "metadata": {
        "colab": {
          "base_uri": "https://localhost:8080/"
        },
        "id": "na19G0a5CzxF",
        "outputId": "7ca2f01e-6b6d-4c04-c675-5320a6242e18"
      },
      "execution_count": 15,
      "outputs": [
        {
          "output_type": "stream",
          "name": "stdout",
          "text": [
            "모델의 출력값(Hypothesis):  [[0.5]\n",
            " [0.5]\n",
            " [0.5]\n",
            " [0.5]]\n",
            "모델의 예측값(Predicted):  [[0.]\n",
            " [0.]\n",
            " [0.]\n",
            " [0.]]\n",
            "실제값(Y):  [[0.]\n",
            " [1.]\n",
            " [1.]\n",
            " [0.]]\n",
            "정확도(Accuracy):  0.5\n"
          ]
        }
      ]
    },
    {
      "cell_type": "markdown",
      "source": [
        "#다층 퍼셉트론"
      ],
      "metadata": {
        "id": "XfQwWs9-D7rJ"
      }
    },
    {
      "cell_type": "code",
      "source": [
        "import torch\n",
        "import torch.nn as nn\n",
        "\n",
        "\n",
        "device = 'cuda' if torch.cuda.is_available() else 'cpu'\n",
        "\n",
        "# for reproducibility\n",
        "torch.manual_seed(777)\n",
        "if device == 'cuda':\n",
        "    torch.cuda.manual_seed_all(777)"
      ],
      "metadata": {
        "id": "3cxls2IpC_Zh"
      },
      "execution_count": 16,
      "outputs": []
    },
    {
      "cell_type": "code",
      "source": [
        "X = torch.FloatTensor([[0, 0], [0, 1], [1, 0], [1, 1]]).to(device)\n",
        "Y = torch.FloatTensor([[0], [1], [1], [0]]).to(device)"
      ],
      "metadata": {
        "id": "JTSNWIcJD_wq"
      },
      "execution_count": 17,
      "outputs": []
    },
    {
      "cell_type": "code",
      "source": [
        "model = nn.Sequential(\n",
        "          nn.Linear(2, 10, bias=True), # input_layer = 2, hidden_layer1 = 10\n",
        "          nn.Sigmoid(),\n",
        "          nn.Linear(10, 10, bias=True), # hidden_layer1 = 10, hidden_layer2 = 10\n",
        "          nn.Sigmoid(),\n",
        "          nn.Linear(10, 10, bias=True), # hidden_layer2 = 10, hidden_layer3 = 10\n",
        "          nn.Sigmoid(),\n",
        "          nn.Linear(10, 1, bias=True), # hidden_layer3 = 10, output_layer = 1\n",
        "          nn.Sigmoid()\n",
        "          ).to(device)"
      ],
      "metadata": {
        "id": "eUqfECbMECJn"
      },
      "execution_count": 18,
      "outputs": []
    },
    {
      "cell_type": "code",
      "source": [
        "criterion = torch.nn.BCELoss().to(device)\n",
        "optimizer = torch.optim.SGD(model.parameters(), lr=1)  # modified learning rate from 0.1 to 1"
      ],
      "metadata": {
        "id": "ZlJkSoO6EJ66"
      },
      "execution_count": 19,
      "outputs": []
    },
    {
      "cell_type": "code",
      "source": [
        "for epoch in range(10001):\n",
        "    optimizer.zero_grad()\n",
        "    # forward 연산\n",
        "    hypothesis = model(X)\n",
        "\n",
        "    # 비용 함수\n",
        "    cost = criterion(hypothesis, Y)\n",
        "    cost.backward()\n",
        "    optimizer.step()\n",
        "\n",
        "    # 100의 배수에 해당되는 에포크마다 비용을 출력\n",
        "    if epoch % 100 == 0:\n",
        "        print(epoch, cost.item())"
      ],
      "metadata": {
        "id": "N8E8E_ouERHh"
      },
      "execution_count": null,
      "outputs": []
    },
    {
      "cell_type": "code",
      "source": [
        "with torch.no_grad():\n",
        "    hypothesis = model(X)\n",
        "    predicted = (hypothesis > 0.5).float()\n",
        "    accuracy = (predicted == Y).float().mean()\n",
        "    print('모델의 출력값(Hypothesis): ', hypothesis.detach().cpu().numpy())\n",
        "    print('모델의 예측값(Predicted): ', predicted.detach().cpu().numpy())\n",
        "    print('실제값(Y): ', Y.cpu().numpy())\n",
        "    print('정확도(Accuracy): ', accuracy.item())"
      ],
      "metadata": {
        "colab": {
          "base_uri": "https://localhost:8080/"
        },
        "id": "dmsqR-HmEW7Y",
        "outputId": "ff24a93e-6fe3-4656-b923-94dcdde0e2d2"
      },
      "execution_count": 21,
      "outputs": [
        {
          "output_type": "stream",
          "name": "stdout",
          "text": [
            "모델의 출력값(Hypothesis):  [[1.1174576e-04]\n",
            " [9.9982870e-01]\n",
            " [9.9984229e-01]\n",
            " [1.8542419e-04]]\n",
            "모델의 예측값(Predicted):  [[0.]\n",
            " [1.]\n",
            " [1.]\n",
            " [0.]]\n",
            "실제값(Y):  [[0.]\n",
            " [1.]\n",
            " [1.]\n",
            " [0.]]\n",
            "정확도(Accuracy):  1.0\n"
          ]
        }
      ]
    },
    {
      "cell_type": "markdown",
      "source": [
        "# 손글씨 분류(mnist와 다른 데이터)"
      ],
      "metadata": {
        "id": "7DnzMp4WIYZi"
      }
    },
    {
      "cell_type": "code",
      "source": [
        "%matplotlib inline\n",
        "import matplotlib.pyplot as plt # 시각화를 위한 맷플롯립\n",
        "from sklearn.datasets import load_digits\n",
        "digits = load_digits() # 1,979개의 이미지 데이터 로드"
      ],
      "metadata": {
        "id": "Hy1WOCPgEe3M"
      },
      "execution_count": 22,
      "outputs": []
    },
    {
      "cell_type": "code",
      "source": [
        "print(digits.images[0])"
      ],
      "metadata": {
        "colab": {
          "base_uri": "https://localhost:8080/"
        },
        "id": "xalYEaF-Izw5",
        "outputId": "c6625fdd-5447-4947-db24-a58ee858a87e"
      },
      "execution_count": 24,
      "outputs": [
        {
          "output_type": "stream",
          "name": "stdout",
          "text": [
            "[[ 0.  0.  5. 13.  9.  1.  0.  0.]\n",
            " [ 0.  0. 13. 15. 10. 15.  5.  0.]\n",
            " [ 0.  3. 15.  2.  0. 11.  8.  0.]\n",
            " [ 0.  4. 12.  0.  0.  8.  8.  0.]\n",
            " [ 0.  5.  8.  0.  0.  9.  8.  0.]\n",
            " [ 0.  4. 11.  0.  1. 12.  7.  0.]\n",
            " [ 0.  2. 14.  5. 10. 12.  0.  0.]\n",
            " [ 0.  0.  6. 13. 10.  0.  0.  0.]]\n"
          ]
        }
      ]
    },
    {
      "cell_type": "code",
      "source": [
        "type(digits.images[0])"
      ],
      "metadata": {
        "colab": {
          "base_uri": "https://localhost:8080/"
        },
        "id": "7GeKAF1GJ5eD",
        "outputId": "dd944695-c6ad-4bde-98e0-722cc91e1712"
      },
      "execution_count": 30,
      "outputs": [
        {
          "output_type": "execute_result",
          "data": {
            "text/plain": [
              "numpy.ndarray"
            ]
          },
          "metadata": {},
          "execution_count": 30
        }
      ]
    },
    {
      "cell_type": "code",
      "source": [
        "print(digits.target[0])"
      ],
      "metadata": {
        "colab": {
          "base_uri": "https://localhost:8080/"
        },
        "id": "WvpR0asyI-sO",
        "outputId": "3521c934-c4f1-4b2a-edcc-829983710e34"
      },
      "execution_count": 25,
      "outputs": [
        {
          "output_type": "stream",
          "name": "stdout",
          "text": [
            "0\n"
          ]
        }
      ]
    },
    {
      "cell_type": "code",
      "source": [
        "plt.imshow(digits.images[0], cmap='Greys', interpolation='nearest')"
      ],
      "metadata": {
        "colab": {
          "base_uri": "https://localhost:8080/",
          "height": 448
        },
        "id": "JEBLWe9qJFQs",
        "outputId": "b06157a4-de32-441d-d5fe-2e418e275f2e"
      },
      "execution_count": 26,
      "outputs": [
        {
          "output_type": "execute_result",
          "data": {
            "text/plain": [
              "<matplotlib.image.AxesImage at 0x7f3abf69d8e0>"
            ]
          },
          "metadata": {},
          "execution_count": 26
        },
        {
          "output_type": "display_data",
          "data": {
            "text/plain": [
              "<Figure size 640x480 with 1 Axes>"
            ],
            "image/png": "[encoded data removed]"
          },
          "metadata": {}
        }
      ]
    },
    {
      "cell_type": "code",
      "source": [
        "print('전체 샘플의 수 : {}'.format(len(digits.images)))"
      ],
      "metadata": {
        "colab": {
          "base_uri": "https://localhost:8080/"
        },
        "id": "Ahv3zZeyJVLh",
        "outputId": "7c08bca5-ab6c-40e9-df75-bc2dbd1939de"
      },
      "execution_count": 27,
      "outputs": [
        {
          "output_type": "stream",
          "name": "stdout",
          "text": [
            "전체 샘플의 수 : 1797\n"
          ]
        }
      ]
    },
    {
      "cell_type": "code",
      "source": [
        "images_and_labels = list(zip(digits.images, digits.target))\n",
        "for index, (image, label) in enumerate(images_and_labels[:5]): # 5개의 샘플만 출력\n",
        "    plt.subplot(2, 5, index + 1)\n",
        "    plt.axis('off')\n",
        "    plt.imshow(image, cmap=plt.cm.gray_r, interpolation='nearest')\n",
        "    plt.title('sample: %i' % label)"
      ],
      "metadata": {
        "colab": {
          "base_uri": "https://localhost:8080/",
          "height": 144
        },
        "id": "DfcSqrmuJdIC",
        "outputId": "85ecbb18-464e-4afe-f327-2d742fa18877"
      },
      "execution_count": 28,
      "outputs": [
        {
          "output_type": "display_data",
          "data": {
            "text/plain": [
              "<Figure size 640x480 with 5 Axes>"
            ],
            "image/png": "[encoded data removed]"
          },
          "metadata": {}
        }
      ]
    },
    {
      "cell_type": "code",
      "source": [
        "X = digits.data # 이미지. 즉, 특성 행렬\n",
        "Y = digits.target # 각 이미지에 대한 레이블"
      ],
      "metadata": {
        "id": "f3SAv1KyJe5m"
      },
      "execution_count": 31,
      "outputs": []
    },
    {
      "cell_type": "code",
      "source": [
        "import torch\n",
        "import torch.nn as nn\n",
        "from torch import optim"
      ],
      "metadata": {
        "id": "KpCGZT4AKIIH"
      },
      "execution_count": 32,
      "outputs": []
    },
    {
      "cell_type": "code",
      "source": [
        "model = nn.Sequential(\n",
        "    nn.Linear(64, 32), # input_layer = 64, hidden_layer1 = 32\n",
        "    nn.ReLU(),\n",
        "    nn.Linear(32, 16), # hidden_layer2 = 32, hidden_layer3 = 16\n",
        "    nn.ReLU(),\n",
        "    nn.Linear(16, 10) # hidden_layer3 = 16, output_layer = 10\n",
        ")"
      ],
      "metadata": {
        "id": "nZOetVlNKJh9"
      },
      "execution_count": 33,
      "outputs": []
    },
    {
      "cell_type": "code",
      "source": [
        "X = torch.tensor(X, dtype=torch.float32)\n",
        "Y = torch.tensor(Y, dtype=torch.int64)"
      ],
      "metadata": {
        "id": "BD_MOQIDKZGG"
      },
      "execution_count": 34,
      "outputs": []
    },
    {
      "cell_type": "code",
      "source": [
        "loss_fn = nn.CrossEntropyLoss() # 이 비용 함수는 소프트맥스 함수를 포함하고 있음.\n",
        "optimizer = optim.Adam(model.parameters())\n",
        "losses = []"
      ],
      "metadata": {
        "id": "h5t3hLJ2KcmI"
      },
      "execution_count": 36,
      "outputs": []
    },
    {
      "cell_type": "code",
      "source": [
        "for epoch in range(100):\n",
        "  optimizer.zero_grad()\n",
        "  y_pred = model(X) # forward 연산\n",
        "  loss = loss_fn(y_pred, Y)\n",
        "  loss.backward()\n",
        "  optimizer.step()\n",
        "\n",
        "  if epoch % 10 == 0:\n",
        "    print('Epoch {:4d}/{} Cost: {:.6f}'.format(\n",
        "            epoch, 100, loss.item()\n",
        "        ))\n",
        "\n",
        "  losses.append(loss.item())"
      ],
      "metadata": {
        "colab": {
          "base_uri": "https://localhost:8080/"
        },
        "id": "PNcegQzaKeno",
        "outputId": "962810d7-a4f8-4038-df34-f8e515ab1d40"
      },
      "execution_count": 37,
      "outputs": [
        {
          "output_type": "stream",
          "name": "stdout",
          "text": [
            "Epoch    0/100 Cost: 2.381846\n",
            "Epoch   10/100 Cost: 2.086940\n",
            "Epoch   20/100 Cost: 1.844468\n",
            "Epoch   30/100 Cost: 1.555474\n",
            "Epoch   40/100 Cost: 1.246410\n",
            "Epoch   50/100 Cost: 0.968091\n",
            "Epoch   60/100 Cost: 0.724376\n",
            "Epoch   70/100 Cost: 0.519714\n",
            "Epoch   80/100 Cost: 0.380597\n",
            "Epoch   90/100 Cost: 0.293385\n"
          ]
        }
      ]
    },
    {
      "cell_type": "markdown",
      "source": [
        "# 다층 퍼셉트론으로 mnist 분류"
      ],
      "metadata": {
        "id": "kLDq19eiLHVn"
      }
    },
    {
      "cell_type": "code",
      "source": [
        "import numpy as np\n",
        "import matplotlib.pyplot as plt\n",
        "%matplotlib inline\n",
        "from sklearn.datasets import fetch_openml"
      ],
      "metadata": {
        "id": "RYtzf4qyK7gn"
      },
      "execution_count": 39,
      "outputs": []
    },
    {
      "cell_type": "code",
      "source": [
        "mnist = fetch_openml('mnist_784', version=1, cache=True, as_frame=False)"
      ],
      "metadata": {
        "colab": {
          "base_uri": "https://localhost:8080/"
        },
        "id": "V3hQePpGLPbD",
        "outputId": "52e096cc-605e-4d65-9442-b9a6b606b8af"
      },
      "execution_count": 40,
      "outputs": [
        {
          "output_type": "stream",
          "name": "stderr",
          "text": [
            "/usr/local/lib/python3.9/dist-packages/sklearn/datasets/_openml.py:968: FutureWarning: The default value of `parser` will change from `'liac-arff'` to `'auto'` in 1.4. You can set `parser='auto'` to silence this warning. Therefore, an `ImportError` will be raised from 1.4 if the dataset is dense and pandas is not installed. Note that the pandas parser may return different data types. See the Notes Section in fetch_openml's API doc for details.\n",
            "  warn(\n"
          ]
        }
      ]
    },
    {
      "cell_type": "code",
      "source": [
        "mnist.target = mnist.target.astype(np.int8)"
      ],
      "metadata": {
        "id": "mmqwWYLaLWTt"
      },
      "execution_count": 41,
      "outputs": []
    },
    {
      "cell_type": "code",
      "source": [
        "X = mnist.data / 255  # 0-255값을 [0,1] 구간으로 정규화\n",
        "y = mnist.target"
      ],
      "metadata": {
        "id": "MxpPWmqoLjoC"
      },
      "execution_count": 42,
      "outputs": []
    },
    {
      "cell_type": "code",
      "source": [
        "plt.imshow(X[0].reshape(28, 28), cmap='Greys') # cmap = 'Greys' : 글씨가 검은색, 배경 흰색\n",
        "                                              # cmap = 'gray' : 글씨가 흰색, 배경 검은색\n",
        "print(\"이 이미지 데이터의 레이블은 {:.0f}이다\".format(y[0]))"
      ],
      "metadata": {
        "colab": {
          "base_uri": "https://localhost:8080/",
          "height": 448
        },
        "id": "sDslfk_JLonu",
        "outputId": "39432aae-6bbb-4cf8-abdc-18da704f1e9a"
      },
      "execution_count": 45,
      "outputs": [
        {
          "output_type": "stream",
          "name": "stdout",
          "text": [
            "이 이미지 데이터의 레이블은 5이다\n"
          ]
        },
        {
          "output_type": "display_data",
          "data": {
            "text/plain": [
              "<Figure size 640x480 with 1 Axes>"
            ],
            "image/png": "[encoded data removed]"
          },
          "metadata": {}
        }
      ]
    },
    {
      "cell_type": "code",
      "source": [
        "import torch\n",
        "from torch.utils.data import TensorDataset, DataLoader\n",
        "from sklearn.model_selection import train_test_split"
      ],
      "metadata": {
        "id": "RwbMq9dbLt1L"
      },
      "execution_count": 46,
      "outputs": []
    },
    {
      "cell_type": "code",
      "source": [
        "X_train, X_test, y_train, y_test = train_test_split(X, y, test_size=1/7, random_state=0)\n",
        "\n",
        "X_train = torch.Tensor(X_train)\n",
        "X_test = torch.Tensor(X_test)\n",
        "y_train = torch.LongTensor(y_train)\n",
        "y_test = torch.LongTensor(y_test)\n",
        "\n",
        "ds_train = TensorDataset(X_train, y_train)\n",
        "ds_test = TensorDataset(X_test, y_test)\n",
        "\n",
        "loader_train = DataLoader(ds_train, batch_size=64, shuffle=True)\n",
        "loader_test = DataLoader(ds_test, batch_size=64, shuffle=False)"
      ],
      "metadata": {
        "id": "0EQZtAfBMEcW"
      },
      "execution_count": 47,
      "outputs": []
    },
    {
      "cell_type": "code",
      "source": [
        "ds_train"
      ],
      "metadata": {
        "colab": {
          "base_uri": "https://localhost:8080/"
        },
        "id": "32NbtgFlMhyo",
        "outputId": "aea9f20d-9192-4db1-f0de-1b6ec70cce7d"
      },
      "execution_count": 48,
      "outputs": [
        {
          "output_type": "execute_result",
          "data": {
            "text/plain": [
              "<torch.utils.data.dataset.TensorDataset at 0x7f3abecbd760>"
            ]
          },
          "metadata": {},
          "execution_count": 48
        }
      ]
    },
    {
      "cell_type": "code",
      "source": [
        "X_train.shape"
      ],
      "metadata": {
        "colab": {
          "base_uri": "https://localhost:8080/"
        },
        "id": "R_eIm6u_MjRU",
        "outputId": "d1bcf2eb-c167-4724-b66e-a0ee79322b34"
      },
      "execution_count": 50,
      "outputs": [
        {
          "output_type": "execute_result",
          "data": {
            "text/plain": [
              "torch.Size([60000, 784])"
            ]
          },
          "metadata": {},
          "execution_count": 50
        }
      ]
    },
    {
      "cell_type": "code",
      "source": [
        "from torch import nn\n",
        "\n",
        "model = nn.Sequential()\n",
        "model.add_module('fc1', nn.Linear(28*28*1, 100))\n",
        "model.add_module('relu1', nn.ReLU())\n",
        "model.add_module('fc2', nn.Linear(100, 100))\n",
        "model.add_module('relu2', nn.ReLU())\n",
        "model.add_module('fc3', nn.Linear(100, 10))\n",
        "\n",
        "print(model)"
      ],
      "metadata": {
        "colab": {
          "base_uri": "https://localhost:8080/"
        },
        "id": "oj_1NZIFMlWh",
        "outputId": "3d0c1233-fe36-4081-b584-0251325bf195"
      },
      "execution_count": 51,
      "outputs": [
        {
          "output_type": "stream",
          "name": "stdout",
          "text": [
            "Sequential(\n",
            "  (fc1): Linear(in_features=784, out_features=100, bias=True)\n",
            "  (relu1): ReLU()\n",
            "  (fc2): Linear(in_features=100, out_features=100, bias=True)\n",
            "  (relu2): ReLU()\n",
            "  (fc3): Linear(in_features=100, out_features=10, bias=True)\n",
            ")\n"
          ]
        }
      ]
    },
    {
      "cell_type": "code",
      "source": [
        "from torch import optim\n",
        "\n",
        "# 오차함수 선택\n",
        "loss_fn = nn.CrossEntropyLoss()\n",
        "\n",
        "# 가중치를 학습하기 위한 최적화 기법 선택\n",
        "optimizer = optim.Adam(model.parameters(), lr=0.01)"
      ],
      "metadata": {
        "id": "_0CinXflNSHP"
      },
      "execution_count": 52,
      "outputs": []
    },
    {
      "cell_type": "code",
      "source": [
        "def train(epoch):\n",
        "    model.train()  # 신경망을 학습 모드로 전환\n",
        "\n",
        "    # 데이터로더에서 미니배치를 하나씩 꺼내 학습을 수행\n",
        "    for data, targets in loader_train:\n",
        "\n",
        "        optimizer.zero_grad()  # 경사를 0으로 초기화\n",
        "        outputs = model(data)  # 데이터를 입력하고 출력을 계산\n",
        "        loss = loss_fn(outputs, targets)  # 출력과 훈련 데이터 정답 간의 오차를 계산\n",
        "        loss.backward()  # 오차를 역전파 계산\n",
        "        optimizer.step()  # 역전파 계산한 값으로 가중치를 수정\n",
        "\n",
        "    print(\"epoch{}：완료\\n\".format(epoch))"
      ],
      "metadata": {
        "id": "tUyIIer9Ngg2"
      },
      "execution_count": 53,
      "outputs": []
    },
    {
      "cell_type": "code",
      "source": [
        "def test():\n",
        "    model.eval()  # 신경망을 추론 모드로 전환\n",
        "    correct = 0\n",
        "\n",
        "    # 데이터로더에서 미니배치를 하나씩 꺼내 추론을 수행\n",
        "    with torch.no_grad():  # 추론 과정에는 미분이 필요없음\n",
        "        for data, targets in loader_test:\n",
        "\n",
        "            outputs = model(data)  # 데이터를 입력하고 출력을 계산\n",
        "\n",
        "            # 추론 계산\n",
        "            _, predicted = torch.max(outputs.data, 1)  # 확률이 가장 높은 레이블이 무엇인지 계산\n",
        "            correct += predicted.eq(targets.data.view_as(predicted)).sum()  # 정답과 일치한 경우 정답 카운트를 증가\n",
        "\n",
        "    # 정확도 출력\n",
        "    data_num = len(loader_test.dataset)  # 데이터 총 건수\n",
        "    print('\\n테스트 데이터에서 예측 정확도: {}/{} ({:.0f}%)\\n'.format(correct,\n",
        "                                                   data_num, 100. * correct / data_num))"
      ],
      "metadata": {
        "id": "LEdiFePUN2eJ"
      },
      "execution_count": 54,
      "outputs": []
    },
    {
      "cell_type": "code",
      "source": [
        "# 학습 전\n",
        "\n",
        "test()"
      ],
      "metadata": {
        "colab": {
          "base_uri": "https://localhost:8080/"
        },
        "id": "65iFsKo0N7bl",
        "outputId": "ac3653bc-e92d-4d70-cb2e-227dcc989e3f"
      },
      "execution_count": 55,
      "outputs": [
        {
          "output_type": "stream",
          "name": "stdout",
          "text": [
            "\n",
            "테스트 데이터에서 예측 정확도: 972/10000 (10%)\n",
            "\n"
          ]
        }
      ]
    },
    {
      "cell_type": "code",
      "source": [
        "for epoch in range(3):\n",
        "    train(epoch)\n",
        "\n",
        "test()"
      ],
      "metadata": {
        "colab": {
          "base_uri": "https://localhost:8080/"
        },
        "id": "gFE0FbujOyog",
        "outputId": "1fb4f3d6-29b8-4a7d-c7a9-aa2a31845376"
      },
      "execution_count": 56,
      "outputs": [
        {
          "output_type": "stream",
          "name": "stdout",
          "text": [
            "epoch0：완료\n",
            "\n",
            "epoch1：완료\n",
            "\n",
            "epoch2：완료\n",
            "\n",
            "\n",
            "테스트 데이터에서 예측 정확도: 9587/10000 (96%)\n",
            "\n"
          ]
        }
      ]
    },
    {
      "cell_type": "code",
      "source": [
        "output"
      ],
      "metadata": {
        "colab": {
          "base_uri": "https://localhost:8080/"
        },
        "id": "vdh0jp-sPRYF",
        "outputId": "065c4633-0416-474e-d30b-3b5898f507b3"
      },
      "execution_count": 60,
      "outputs": [
        {
          "output_type": "execute_result",
          "data": {
            "text/plain": [
              "tensor([  0.5699,  -4.7616,  11.7150,  -0.3251,  -8.4639,  -2.3397, -10.8477,\n",
              "         -0.4081,  -0.1163,  -6.4082], grad_fn=<AddBackward0>)"
            ]
          },
          "metadata": {},
          "execution_count": 60
        }
      ]
    },
    {
      "cell_type": "code",
      "source": [
        "index = 2018\n",
        "\n",
        "model.eval()  # 신경망을 추론 모드로 전환\n",
        "data = X_test[index]\n",
        "output = model(data)  # 데이터를 입력하고 출력을 계산\n",
        "_, predicted = torch.max(output.data, 0)  # 확률이 가장 높은 레이블이 무엇인지 계산\n",
        "                                          # output.data를 하면 grad_fn을 제외한 텐서만.\n",
        "print(\"예측 결과 : {}\".format(predicted))\n",
        "\n",
        "X_test_show = (X_test[index]).numpy()\n",
        "plt.imshow(X_test_show.reshape(28, 28), cmap='gray')\n",
        "print(\"이 이미지 데이터의 정답 레이블은 {:.0f}입니다\".format(y_test[index]))"
      ],
      "metadata": {
        "colab": {
          "base_uri": "https://localhost:8080/",
          "height": 466
        },
        "id": "GAuAZBMCPBMn",
        "outputId": "b96d80bd-f9d3-40fe-83c0-71e283d2b2a0"
      },
      "execution_count": 61,
      "outputs": [
        {
          "output_type": "stream",
          "name": "stdout",
          "text": [
            "예측 결과 : 2\n",
            "이 이미지 데이터의 정답 레이블은 2입니다\n"
          ]
        },
        {
          "output_type": "display_data",
          "data": {
            "text/plain": [
              "<Figure size 640x480 with 1 Axes>"
            ],
            "image/png": "[encoded data removed]"
          },
          "metadata": {}
        }
      ]
    },
    {
      "cell_type": "markdown",
      "source": [
        "# 과적합(ovefitting) 막는 방법"
      ],
      "metadata": {
        "id": "_dBoyIY3RJ-e"
      }
    },
    {
      "cell_type": "markdown",
      "source": [
        "모델 복잡도 줄이기"
      ],
      "metadata": {
        "id": "dR-UtFnbRNOt"
      }
    },
    {
      "cell_type": "code",
      "source": [
        "class Architecture1(nn.Module):\n",
        "  def __init__(self, input_size, hidden_size, num_classes):\n",
        "    super(Architecture1, self).__init__()\n",
        "    self.fc1 = nn.Linear(input_size, hidden_size)\n",
        "    self.relu = nn.ReLU()\n",
        "    self.fc2 = nn.Linear(hidden_size, hidden_size)\n",
        "    self.relu = nn.ReLU()\n",
        "    self.fc3 = nn.Linear(hidden_size, num_classes)\n",
        "\n",
        "  def forward(self, x):\n",
        "    out = self.fc1(x)\n",
        "    out = self.relu(out)\n",
        "    out = self.fc2(out)\n",
        "    out = self.relu(out)\n",
        "    out = self.fc3(out)\n",
        "    return out"
      ],
      "metadata": {
        "id": "IHJ20DjFPGwU"
      },
      "execution_count": 62,
      "outputs": []
    },
    {
      "cell_type": "code",
      "source": [
        "# 줄인 버전\n",
        "\n",
        "class Architecture1(nn.Module):\n",
        "  def __init__(self, input_size, hidden_size, num_classes):\n",
        "    super(Architecture1, self).__init__()\n",
        "    self.fc1 = nn.Linear(input_size, hidden_size)\n",
        "    self.relu = nn.ReLU()\n",
        "    self.fc2 = nn.Linear(hidden_size, num_classes)\n",
        "\n",
        "  def forward(self, x):\n",
        "    out = self.fc1(x)\n",
        "    out = self.relu(out)\n",
        "    out = self.fc2(out)\n",
        "    return out"
      ],
      "metadata": {
        "id": "ndlYjhCQSEZQ"
      },
      "execution_count": 63,
      "outputs": []
    },
    {
      "cell_type": "markdown",
      "source": [
        "L1 규제는 모델의 결과에 별 영향을 주지 못하는 가중치를 0에 가깝게 만들어버림\n",
        "\n",
        "L2 규제는 0에 가까워 지는 경향을 띄게 한다.\n",
        "\n",
        "어떤 특성이 영향을 안 주는지 판단하려면 L1\n",
        "\n",
        "그 외에는 경험적으로 L2를 쓴다."
      ],
      "metadata": {
        "id": "BpH6O9QBTfKK"
      }
    },
    {
      "cell_type": "markdown",
      "source": [
        "weight decay (L2 규제)"
      ],
      "metadata": {
        "id": "uvXVK2dlTZVk"
      }
    },
    {
      "cell_type": "code",
      "source": [
        "model = Architecture1(10, 20, 2)\n",
        "optimizer = torch.optim.Adam(model.parameters(), lr=1e-4, weight_decay=1e-5)"
      ],
      "metadata": {
        "id": "XzQ0WbP_SPFB"
      },
      "execution_count": 64,
      "outputs": []
    },
    {
      "cell_type": "markdown",
      "source": [
        "Batch Normalization"
      ],
      "metadata": {
        "id": "BbSWMzYo0a-n"
      }
    },
    {
      "cell_type": "markdown",
      "source": [
        "배치 단위로 입력데이터를 정규화\n",
        "\n",
        "정규화 값(x')에 스케일을 곱하고, 시프트를 더했는데 이는 학습의 대상"
      ],
      "metadata": {
        "id": "0SmWaDY30fAf"
      }
    },
    {
      "cell_type": "markdown",
      "source": [
        "![image.png](data:image/png;base64,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)"
      ],
      "metadata": {
        "id": "uHM-oB9O0yPX"
      }
    },
    {
      "cell_type": "markdown",
      "source": [
        "Layer Normalization"
      ],
      "metadata": {
        "id": "4bN8n0zB17BH"
      }
    },
    {
      "cell_type": "markdown",
      "source": [
        "![image.png](data:image/png;base64,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)"
      ],
      "metadata": {
        "id": "8sLXMkzr1-In"
      }
    },
    {
      "cell_type": "code",
      "source": [],
      "metadata": {
        "id": "Oq6h_yJQT4DK"
      },
      "execution_count": null,
      "outputs": []
    }
  ]
}