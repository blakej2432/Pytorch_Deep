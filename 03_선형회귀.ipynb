{
  "nbformat": 4,
  "nbformat_minor": 0,
  "metadata": {
    "colab": {
      "provenance": []
    },
    "kernelspec": {
      "name": "python3",
      "display_name": "Python 3"
    },
    "language_info": {
      "name": "python"
    },
    "accelerator": "GPU",
    "gpuClass": "standard"
  },
  "cells": [
    {
      "cell_type": "markdown",
      "source": [
        "# 단순 선형 회귀"
      ],
      "metadata": {
        "id": "kpd0Fq3eggAf"
      }
    },
    {
      "cell_type": "code",
      "execution_count": 1,
      "metadata": {
        "id": "KozfvrrPM3RJ"
      },
      "outputs": [],
      "source": [
        "import torch\n",
        "import torch.nn as nn\n",
        "import torch.nn.functional as F\n",
        "import torch.optim as optim"
      ]
    },
    {
      "cell_type": "code",
      "source": [
        "# 실행 시 마다 같은 결과가 나오도록 랜덤 시드 설정\n",
        "\n",
        "torch.manual_seed(1)"
      ],
      "metadata": {
        "colab": {
          "base_uri": "https://localhost:8080/"
        },
        "id": "CDwsk8TMNBjH",
        "outputId": "ac618109-5626-4555-f8ff-d92bdfdb14a6"
      },
      "execution_count": null,
      "outputs": [
        {
          "output_type": "execute_result",
          "data": {
            "text/plain": [
              "<torch._C.Generator at 0x7fd47808d3b0>"
            ]
          },
          "metadata": {},
          "execution_count": 2
        }
      ]
    },
    {
      "cell_type": "code",
      "source": [
        "# 학습 시킬 변수 선언\n",
        "\n",
        "x_train = torch.FloatTensor([[1], [2], [3]])\n",
        "y_train = torch.FloatTensor([[2], [4], [6]])"
      ],
      "metadata": {
        "id": "xOH2ERw1RxLI"
      },
      "execution_count": null,
      "outputs": []
    },
    {
      "cell_type": "code",
      "source": [
        "# 가중치, 편항 초기화\n",
        "\n",
        "W = torch.zeros(1, requires_grad=True)\n",
        "b = torch.zeros(1, requires_grad=True)"
      ],
      "metadata": {
        "id": "0uQThFdZR06R"
      },
      "execution_count": null,
      "outputs": []
    },
    {
      "cell_type": "code",
      "source": [
        "# 직선 방정식 가설 선언\n",
        "\n",
        "hypothesis = x_train * W + b"
      ],
      "metadata": {
        "id": "e9K64449SVRI"
      },
      "execution_count": null,
      "outputs": []
    },
    {
      "cell_type": "code",
      "source": [
        "hypothesis"
      ],
      "metadata": {
        "colab": {
          "base_uri": "https://localhost:8080/"
        },
        "id": "Jn2T7_NaSaZ5",
        "outputId": "f4b49c59-42cd-4c51-94af-ac870b05bfe7"
      },
      "execution_count": null,
      "outputs": [
        {
          "output_type": "execute_result",
          "data": {
            "text/plain": [
              "tensor([[0.],\n",
              "        [0.],\n",
              "        [0.]], grad_fn=<AddBackward0>)"
            ]
          },
          "metadata": {},
          "execution_count": 6
        }
      ]
    },
    {
      "cell_type": "code",
      "source": [
        "# 비용함수 선언\n",
        "\n",
        "cost = torch.mean((hypothesis - y_train) ** 2) # MSE\n",
        "print(cost)"
      ],
      "metadata": {
        "colab": {
          "base_uri": "https://localhost:8080/"
        },
        "id": "Lx8Wnb79Sced",
        "outputId": "be1a491f-3628-449b-b0a6-2e72f509010b"
      },
      "execution_count": null,
      "outputs": [
        {
          "output_type": "stream",
          "name": "stdout",
          "text": [
            "tensor(18.6667, grad_fn=<MeanBackward0>)\n"
          ]
        }
      ]
    },
    {
      "cell_type": "code",
      "source": [
        "# 경사하강법 구현\n",
        "\n",
        "optimizer = optim.SGD([W, b], lr=0.01)"
      ],
      "metadata": {
        "id": "fexdCKd4SoHm"
      },
      "execution_count": null,
      "outputs": []
    },
    {
      "cell_type": "code",
      "source": [
        "# gradient를 0으로 초기화\n",
        "optimizer.zero_grad() \n",
        "# 비용 함수를 미분하여 gradient 계산\n",
        "cost.backward() \n",
        "# W와 b를 업데이트\n",
        "optimizer.step() "
      ],
      "metadata": {
        "id": "Vb90SdniSv_f"
      },
      "execution_count": null,
      "outputs": []
    },
    {
      "cell_type": "code",
      "source": [
        "# 학습 코드 전체\n",
        "\n",
        "x_train = torch.FloatTensor([[1], [2], [3]])\n",
        "y_train = torch.FloatTensor([[2], [4], [6]])\n",
        "# 모델 초기화\n",
        "W = torch.zeros(1, requires_grad=True)\n",
        "b = torch.zeros(1, requires_grad=True)\n",
        "# optimizer 설정\n",
        "optimizer = optim.SGD([W, b], lr=0.01)\n",
        "\n",
        "nb_epochs = 1000 # 원하는만큼 경사 하강법을 반복\n",
        "for epoch in range(nb_epochs + 1):\n",
        "\n",
        "    # H(x) 계산\n",
        "    hypothesis = x_train * W + b\n",
        "\n",
        "    # cost 계산\n",
        "    cost = torch.mean((hypothesis - y_train) ** 2)\n",
        "\n",
        "    # cost로 H(x) 개선\n",
        "    optimizer.zero_grad()\n",
        "    cost.backward()\n",
        "    optimizer.step()\n",
        "\n",
        "    # 100번마다 로그 출력\n",
        "    if epoch % 100 == 0:\n",
        "        print('Epoch {:4d}/{} W: {:.3f}, b: {:.3f} Cost: {:.6f}'.format(\n",
        "            epoch, nb_epochs, W.item(), b.item(), cost.item()\n",
        "        ))"
      ],
      "metadata": {
        "colab": {
          "base_uri": "https://localhost:8080/"
        },
        "id": "QtMRH9AQT1-h",
        "outputId": "4a0e3519-93c3-4133-ffe0-c1d8df3f205b"
      },
      "execution_count": null,
      "outputs": [
        {
          "output_type": "stream",
          "name": "stdout",
          "text": [
            "Epoch    0/1000 W: 0.187, b: 0.080 Cost: 18.666666\n",
            "Epoch  100/1000 W: 1.746, b: 0.578 Cost: 0.048171\n",
            "Epoch  200/1000 W: 1.800, b: 0.454 Cost: 0.029767\n",
            "Epoch  300/1000 W: 1.843, b: 0.357 Cost: 0.018394\n",
            "Epoch  400/1000 W: 1.876, b: 0.281 Cost: 0.011366\n",
            "Epoch  500/1000 W: 1.903, b: 0.221 Cost: 0.007024\n",
            "Epoch  600/1000 W: 1.924, b: 0.174 Cost: 0.004340\n",
            "Epoch  700/1000 W: 1.940, b: 0.136 Cost: 0.002682\n",
            "Epoch  800/1000 W: 1.953, b: 0.107 Cost: 0.001657\n",
            "Epoch  900/1000 W: 1.963, b: 0.084 Cost: 0.001024\n",
            "Epoch 1000/1000 W: 1.971, b: 0.066 Cost: 0.000633\n"
          ]
        }
      ]
    },
    {
      "cell_type": "code",
      "source": [
        "# 자동 미분\n",
        "\n",
        "w = torch.tensor(2.0, requires_grad=True)\n",
        "\n",
        "y = w**2\n",
        "z = 2*y + 5\n",
        "\n",
        "z.backward()\n",
        "\n",
        "print(w.grad)"
      ],
      "metadata": {
        "colab": {
          "base_uri": "https://localhost:8080/"
        },
        "id": "rgTdRnT-UUsm",
        "outputId": "6db13d75-2764-46de-db42-d12117efcb47"
      },
      "execution_count": null,
      "outputs": [
        {
          "output_type": "stream",
          "name": "stdout",
          "text": [
            "tensor(8.)\n"
          ]
        }
      ]
    },
    {
      "cell_type": "markdown",
      "source": [
        "# 다중 선형 회귀"
      ],
      "metadata": {
        "id": "395v7CQRgmnm"
      }
    },
    {
      "cell_type": "code",
      "source": [
        "# 훈련 데이터\n",
        "x1_train = torch.FloatTensor([[73], [93], [89], [96], [73]])\n",
        "x2_train = torch.FloatTensor([[80], [88], [91], [98], [66]])\n",
        "x3_train = torch.FloatTensor([[75], [93], [90], [100], [70]])\n",
        "y_train = torch.FloatTensor([[152], [185], [180], [196], [142]])"
      ],
      "metadata": {
        "id": "SxhKcPI3Ybv8"
      },
      "execution_count": null,
      "outputs": []
    },
    {
      "cell_type": "code",
      "source": [
        "# 가중치 w와 편향 b 초기화\n",
        "w1 = torch.zeros(1, requires_grad=True)\n",
        "w2 = torch.zeros(1, requires_grad=True)\n",
        "w3 = torch.zeros(1, requires_grad=True)\n",
        "b = torch.zeros(1, requires_grad=True)"
      ],
      "metadata": {
        "id": "_BNtvB82Yl8H"
      },
      "execution_count": null,
      "outputs": []
    },
    {
      "cell_type": "code",
      "source": [
        "# optimizer 설정\n",
        "optimizer = optim.SGD([w1, w2, w3, b], lr=1e-5)\n",
        "\n",
        "nb_epochs = 1000\n",
        "for epoch in range(nb_epochs + 1):\n",
        "\n",
        "    # H(x) 계산\n",
        "    hypothesis = x1_train * w1 + x2_train * w2 + x3_train * w3 + b\n",
        "\n",
        "    # cost 계산\n",
        "    cost = torch.mean((hypothesis - y_train) ** 2)\n",
        "\n",
        "    # cost로 H(x) 개선\n",
        "    optimizer.zero_grad()\n",
        "    cost.backward()\n",
        "    optimizer.step()\n",
        "\n",
        "    # 100번마다 로그 출력\n",
        "    if epoch % 100 == 0:\n",
        "        print('Epoch {:4d}/{} w1: {:.3f} w2: {:.3f} w3: {:.3f} b: {:.3f} Cost: {:.6f}'.format(\n",
        "            epoch, nb_epochs, w1.item(), w2.item(), w3.item(), b.item(), cost.item()\n",
        "        ))"
      ],
      "metadata": {
        "colab": {
          "base_uri": "https://localhost:8080/"
        },
        "id": "PpctIVuzZh6M",
        "outputId": "0bf9f300-0db4-4a8f-fab5-890d44ea16a5"
      },
      "execution_count": null,
      "outputs": [
        {
          "output_type": "stream",
          "name": "stdout",
          "text": [
            "Epoch    0/1000 w1: 0.294 w2: 0.294 w3: 0.297 b: 0.003 Cost: 29661.800781\n",
            "Epoch  100/1000 w1: 0.674 w2: 0.661 w3: 0.676 b: 0.008 Cost: 1.563628\n",
            "Epoch  200/1000 w1: 0.679 w2: 0.655 w3: 0.677 b: 0.008 Cost: 1.497595\n",
            "Epoch  300/1000 w1: 0.684 w2: 0.649 w3: 0.677 b: 0.008 Cost: 1.435044\n",
            "Epoch  400/1000 w1: 0.689 w2: 0.643 w3: 0.678 b: 0.008 Cost: 1.375726\n",
            "Epoch  500/1000 w1: 0.694 w2: 0.638 w3: 0.678 b: 0.009 Cost: 1.319507\n",
            "Epoch  600/1000 w1: 0.699 w2: 0.633 w3: 0.679 b: 0.009 Cost: 1.266222\n",
            "Epoch  700/1000 w1: 0.704 w2: 0.627 w3: 0.679 b: 0.009 Cost: 1.215703\n",
            "Epoch  800/1000 w1: 0.709 w2: 0.622 w3: 0.679 b: 0.009 Cost: 1.167810\n",
            "Epoch  900/1000 w1: 0.713 w2: 0.617 w3: 0.680 b: 0.009 Cost: 1.122429\n",
            "Epoch 1000/1000 w1: 0.718 w2: 0.613 w3: 0.680 b: 0.009 Cost: 1.079390\n"
          ]
        }
      ]
    },
    {
      "cell_type": "code",
      "source": [
        "# 행렬 연산으로 구현하기\n",
        "\n",
        "x_train  =  torch.FloatTensor([[73,  80,  75], \n",
        "                               [93,  88,  93], \n",
        "                               [89,  91,  80], \n",
        "                               [96,  98,  100],   \n",
        "                               [73,  66,  70]])  \n",
        "y_train  =  torch.FloatTensor([[152],  [185],  [180],  [196],  [142]])\n",
        "\n",
        "print(x_train.shape)\n",
        "print(y_train.shape)\n"
      ],
      "metadata": {
        "colab": {
          "base_uri": "https://localhost:8080/"
        },
        "id": "0qrOlLB4Zus5",
        "outputId": "9f2a1e32-f305-452f-edc4-333aa1f0a767"
      },
      "execution_count": null,
      "outputs": [
        {
          "output_type": "stream",
          "name": "stdout",
          "text": [
            "torch.Size([5, 3])\n",
            "torch.Size([5, 1])\n"
          ]
        }
      ]
    },
    {
      "cell_type": "code",
      "source": [
        "# 가중치와 편향 선언\n",
        "\n",
        "W = torch.zeros((3, 1), requires_grad=True)\n",
        "b = torch.zeros(1, requires_grad=True)"
      ],
      "metadata": {
        "id": "_t6cIBfsaJZU"
      },
      "execution_count": null,
      "outputs": []
    },
    {
      "cell_type": "code",
      "source": [
        "hypothesis = x_train.matmul(W) + b"
      ],
      "metadata": {
        "id": "RQqlWC_xabbf"
      },
      "execution_count": null,
      "outputs": []
    },
    {
      "cell_type": "code",
      "source": [
        "# 행렬 연산으로 훈련 코드 구성\n",
        "\n",
        "x_train  =  torch.FloatTensor([[73,  80,  75], \n",
        "                               [93,  88,  93], \n",
        "                               [89,  91,  80], \n",
        "                               [96,  98,  100],   \n",
        "                               [73,  66,  70]])  \n",
        "y_train  =  torch.FloatTensor([[152],  [185],  [180],  [196],  [142]])\n",
        "\n",
        "# 모델 초기화\n",
        "W = torch.zeros((3, 1), requires_grad=True)\n",
        "b = torch.zeros(1, requires_grad=True)\n",
        "# optimizer 설정\n",
        "optimizer = optim.SGD([W, b], lr=1e-5)\n",
        "\n",
        "nb_epochs = 20\n",
        "for epoch in range(nb_epochs + 1):\n",
        "\n",
        "    # H(x) 계산\n",
        "    # 편향 b는 브로드 캐스팅되어 각 샘플에 더해집니다.\n",
        "    hypothesis = x_train.matmul(W) + b\n",
        "\n",
        "    # cost 계산\n",
        "    cost = torch.mean((hypothesis - y_train) ** 2)\n",
        "\n",
        "    # cost로 H(x) 개선\n",
        "    optimizer.zero_grad()\n",
        "    cost.backward()\n",
        "    optimizer.step()\n",
        "\n",
        "    print('Epoch {:4d}/{} hypothesis: {} Cost: {:.6f}'.format(\n",
        "        epoch, nb_epochs, hypothesis.squeeze().detach(), cost.item()\n",
        "    ))"
      ],
      "metadata": {
        "colab": {
          "base_uri": "https://localhost:8080/"
        },
        "id": "vLrYIagAal1v",
        "outputId": "9cb5b856-2f36-4f42-ae74-054426d8e936"
      },
      "execution_count": null,
      "outputs": [
        {
          "output_type": "stream",
          "name": "stdout",
          "text": [
            "Epoch    0/20 hypothesis: tensor([0., 0., 0., 0., 0.]) Cost: 29661.800781\n",
            "Epoch    1/20 hypothesis: tensor([66.7178, 80.1701, 76.1025, 86.0194, 61.1565]) Cost: 9537.694336\n",
            "Epoch    2/20 hypothesis: tensor([104.5421, 125.6208, 119.2478, 134.7862,  95.8280]) Cost: 3069.590088\n",
            "Epoch    3/20 hypothesis: tensor([125.9858, 151.3882, 143.7087, 162.4333, 115.4844]) Cost: 990.670288\n",
            "Epoch    4/20 hypothesis: tensor([138.1429, 165.9963, 157.5768, 178.1071, 126.6283]) Cost: 322.481873\n",
            "Epoch    5/20 hypothesis: tensor([145.0350, 174.2780, 165.4395, 186.9928, 132.9461]) Cost: 107.717064\n",
            "Epoch    6/20 hypothesis: tensor([148.9423, 178.9730, 169.8976, 192.0301, 136.5279]) Cost: 38.687496\n",
            "Epoch    7/20 hypothesis: tensor([151.1574, 181.6346, 172.4254, 194.8856, 138.5585]) Cost: 16.499043\n",
            "Epoch    8/20 hypothesis: tensor([152.4131, 183.1435, 173.8590, 196.5043, 139.7097]) Cost: 9.365656\n",
            "Epoch    9/20 hypothesis: tensor([153.1250, 183.9988, 174.6723, 197.4217, 140.3625]) Cost: 7.071114\n",
            "Epoch   10/20 hypothesis: tensor([153.5285, 184.4835, 175.1338, 197.9415, 140.7325]) Cost: 6.331847\n",
            "Epoch   11/20 hypothesis: tensor([153.7572, 184.7582, 175.3958, 198.2360, 140.9424]) Cost: 6.092532\n",
            "Epoch   12/20 hypothesis: tensor([153.8868, 184.9138, 175.5449, 198.4026, 141.0613]) Cost: 6.013817\n",
            "Epoch   13/20 hypothesis: tensor([153.9602, 185.0019, 175.6299, 198.4969, 141.1288]) Cost: 5.986785\n",
            "Epoch   14/20 hypothesis: tensor([154.0017, 185.0517, 175.6785, 198.5500, 141.1671]) Cost: 5.976325\n",
            "Epoch   15/20 hypothesis: tensor([154.0252, 185.0798, 175.7065, 198.5800, 141.1888]) Cost: 5.971208\n",
            "Epoch   16/20 hypothesis: tensor([154.0385, 185.0956, 175.7229, 198.5966, 141.2012]) Cost: 5.967835\n",
            "Epoch   17/20 hypothesis: tensor([154.0459, 185.1045, 175.7326, 198.6059, 141.2082]) Cost: 5.964969\n",
            "Epoch   18/20 hypothesis: tensor([154.0501, 185.1094, 175.7386, 198.6108, 141.2122]) Cost: 5.962291\n",
            "Epoch   19/20 hypothesis: tensor([154.0524, 185.1120, 175.7424, 198.6134, 141.2145]) Cost: 5.959664\n",
            "Epoch   20/20 hypothesis: tensor([154.0536, 185.1134, 175.7451, 198.6145, 141.2158]) Cost: 5.957089\n"
          ]
        }
      ]
    },
    {
      "cell_type": "markdown",
      "source": [
        "# nn.Module 로 선형회귀 구현"
      ],
      "metadata": {
        "id": "8sRRcmT1b9IM"
      }
    },
    {
      "cell_type": "code",
      "source": [
        "import torch.nn as nn\n",
        "# model = nn.Linear(input_dim, output_dim)"
      ],
      "metadata": {
        "id": "vVqqmSKdarfI"
      },
      "execution_count": null,
      "outputs": []
    },
    {
      "cell_type": "code",
      "source": [
        "import torch.nn.functional as F\n",
        "# cost = F.mse_loss(prediction, y_train)"
      ],
      "metadata": {
        "id": "t6JN8woEcGGs"
      },
      "execution_count": null,
      "outputs": []
    },
    {
      "cell_type": "code",
      "source": [
        "import torch\n",
        "import torch.nn as nn\n",
        "import torch.nn.functional as F\n",
        "\n",
        "torch.manual_seed(1)"
      ],
      "metadata": {
        "colab": {
          "base_uri": "https://localhost:8080/"
        },
        "id": "EaOzt8zCcKPN",
        "outputId": "5d8a1011-4b3a-4e33-cb9e-4c983d3053a8"
      },
      "execution_count": null,
      "outputs": [
        {
          "output_type": "execute_result",
          "data": {
            "text/plain": [
              "<torch._C.Generator at 0x7fd47808d3b0>"
            ]
          },
          "metadata": {},
          "execution_count": 24
        }
      ]
    },
    {
      "cell_type": "code",
      "source": [
        "# 데이터\n",
        "x_train = torch.FloatTensor([[1], [2], [3]])\n",
        "y_train = torch.FloatTensor([[2], [4], [6]])"
      ],
      "metadata": {
        "id": "7vqwefr7cXGo"
      },
      "execution_count": null,
      "outputs": []
    },
    {
      "cell_type": "code",
      "source": [
        "# 모델을 선언 및 초기화. 단순 선형 회귀이므로 input_dim=1, output_dim=1.\n",
        "model = nn.Linear(1,1)"
      ],
      "metadata": {
        "id": "xhkW8uYncaNA"
      },
      "execution_count": null,
      "outputs": []
    },
    {
      "cell_type": "code",
      "source": [
        "print(list(model.parameters()))"
      ],
      "metadata": {
        "colab": {
          "base_uri": "https://localhost:8080/"
        },
        "id": "UfhjNcRscb4z",
        "outputId": "6345b1d0-e224-4018-9f3f-5e8eb2628e5b"
      },
      "execution_count": null,
      "outputs": [
        {
          "output_type": "stream",
          "name": "stdout",
          "text": [
            "[Parameter containing:\n",
            "tensor([[1.9943]], requires_grad=True), Parameter containing:\n",
            "tensor([0.0128], requires_grad=True)]\n"
          ]
        }
      ]
    },
    {
      "cell_type": "code",
      "source": [
        "# optimizer 설정. 경사 하강법 SGD를 사용하고 learning rate를 의미하는 lr은 0.01\n",
        "optimizer = torch.optim.SGD(model.parameters(), lr=0.01) "
      ],
      "metadata": {
        "id": "YX9ANvCGclJl"
      },
      "execution_count": null,
      "outputs": []
    },
    {
      "cell_type": "code",
      "source": [
        "# 전체 훈련 데이터에 대해 경사 하강법을 2,000회 반복\n",
        "nb_epochs = 2000\n",
        "for epoch in range(nb_epochs+1):\n",
        "\n",
        "    # H(x) 계산\n",
        "    prediction = model(x_train)\n",
        "\n",
        "    # cost 계산\n",
        "    cost = F.mse_loss(prediction, y_train) # <== 파이토치에서 제공하는 평균 제곱 오차 함수\n",
        "\n",
        "    # cost로 H(x) 개선하는 부분\n",
        "    # gradient를 0으로 초기화\n",
        "    optimizer.zero_grad()\n",
        "    # 비용 함수를 미분하여 gradient 계산\n",
        "    cost.backward() # backward 연산\n",
        "    # W와 b를 업데이트\n",
        "    optimizer.step()\n",
        "\n",
        "    if epoch % 100 == 0:\n",
        "    # 100번마다 로그 출력\n",
        "      print('Epoch {:4d}/{} Cost: {:.6f}'.format(\n",
        "          epoch, nb_epochs, cost.item()\n",
        "      ))"
      ],
      "metadata": {
        "colab": {
          "base_uri": "https://localhost:8080/"
        },
        "id": "BIq0mhVac0GA",
        "outputId": "ced71ad3-61da-4d9a-c76b-5032da1b805e"
      },
      "execution_count": null,
      "outputs": [
        {
          "output_type": "stream",
          "name": "stdout",
          "text": [
            "Epoch    0/2000 Cost: 33.679783\n",
            "Epoch  100/2000 Cost: 0.223159\n",
            "Epoch  200/2000 Cost: 0.137899\n",
            "Epoch  300/2000 Cost: 0.085213\n",
            "Epoch  400/2000 Cost: 0.052656\n",
            "Epoch  500/2000 Cost: 0.032539\n",
            "Epoch  600/2000 Cost: 0.020107\n",
            "Epoch  700/2000 Cost: 0.012425\n",
            "Epoch  800/2000 Cost: 0.007678\n",
            "Epoch  900/2000 Cost: 0.004744\n",
            "Epoch 1000/2000 Cost: 0.002932\n",
            "Epoch 1100/2000 Cost: 0.001812\n",
            "Epoch 1200/2000 Cost: 0.001119\n",
            "Epoch 1300/2000 Cost: 0.000692\n",
            "Epoch 1400/2000 Cost: 0.000427\n",
            "Epoch 1500/2000 Cost: 0.000264\n",
            "Epoch 1600/2000 Cost: 0.000163\n",
            "Epoch 1700/2000 Cost: 0.000101\n",
            "Epoch 1800/2000 Cost: 0.000062\n",
            "Epoch 1900/2000 Cost: 0.000039\n",
            "Epoch 2000/2000 Cost: 0.000024\n"
          ]
        }
      ]
    },
    {
      "cell_type": "code",
      "source": [
        "# 추론\n",
        "\n",
        "# 임의의 입력 4를 선언\n",
        "new_var =  torch.FloatTensor([[4.0]]) \n",
        "# 입력한 값 4에 대해서 예측값 y를 리턴받아서 pred_y에 저장\n",
        "pred_y = model(new_var) # forward 연산\n",
        "# y = 2x 이므로 입력이 4라면 y가 8에 가까운 값이 나와야 제대로 학습이 된 것\n",
        "print(\"훈련 후 입력이 4일 때의 예측값 :\", pred_y) "
      ],
      "metadata": {
        "colab": {
          "base_uri": "https://localhost:8080/"
        },
        "id": "K8Y5QukndYoW",
        "outputId": "9922f784-ef5c-458d-c920-6b381763a404"
      },
      "execution_count": null,
      "outputs": [
        {
          "output_type": "stream",
          "name": "stdout",
          "text": [
            "훈련 후 입력이 4일 때의 예측값 : tensor([[7.9902]], grad_fn=<AddmmBackward0>)\n"
          ]
        }
      ]
    },
    {
      "cell_type": "code",
      "source": [
        "# 데이터\n",
        "x_train = torch.FloatTensor([[73, 80, 75],\n",
        "                             [93, 88, 93],\n",
        "                             [89, 91, 90],\n",
        "                             [96, 98, 100],\n",
        "                             [73, 66, 70]])\n",
        "y_train = torch.FloatTensor([[152], [185], [180], [196], [142]])\n",
        "\n",
        "# 모델을 선언 및 초기화. 다중 선형 회귀이므로 input_dim=3, output_dim=1.\n",
        "model = nn.Linear(3,1)"
      ],
      "metadata": {
        "id": "fxCT4liWfDzF"
      },
      "execution_count": null,
      "outputs": []
    },
    {
      "cell_type": "code",
      "source": [
        "print(list(model.parameters()))"
      ],
      "metadata": {
        "colab": {
          "base_uri": "https://localhost:8080/"
        },
        "id": "mAoEBWA4fm_e",
        "outputId": "5119491d-1d60-4219-a5a3-e6bc62dd2916"
      },
      "execution_count": null,
      "outputs": [
        {
          "output_type": "stream",
          "name": "stdout",
          "text": [
            "[Parameter containing:\n",
            "tensor([[-0.1188,  0.2937,  0.0803]], requires_grad=True), Parameter containing:\n",
            "tensor([-0.0707], requires_grad=True)]\n"
          ]
        }
      ]
    },
    {
      "cell_type": "code",
      "source": [
        "optimizer = torch.optim.SGD(model.parameters(), lr=1e-5) "
      ],
      "metadata": {
        "id": "cnTwnx5Kfn5M"
      },
      "execution_count": null,
      "outputs": []
    },
    {
      "cell_type": "code",
      "source": [
        "nb_epochs = 2000\n",
        "for epoch in range(nb_epochs+1):\n",
        "\n",
        "    # H(x) 계산\n",
        "    prediction = model(x_train)\n",
        "    # model(x_train)은 model.forward(x_train)와 동일함.\n",
        "\n",
        "    # cost 계산\n",
        "    cost = F.mse_loss(prediction, y_train) # <== 파이토치에서 제공하는 평균 제곱 오차 함수\n",
        "\n",
        "    # cost로 H(x) 개선하는 부분\n",
        "    # gradient를 0으로 초기화\n",
        "    optimizer.zero_grad()\n",
        "    # 비용 함수를 미분하여 gradient 계산\n",
        "    cost.backward()\n",
        "    # W와 b를 업데이트\n",
        "    optimizer.step()\n",
        "\n",
        "    if epoch % 100 == 0:\n",
        "    # 100번마다 로그 출력\n",
        "      print('Epoch {:4d}/{} Cost: {:.6f}'.format(\n",
        "          epoch, nb_epochs, cost.item()\n",
        "      ))"
      ],
      "metadata": {
        "colab": {
          "base_uri": "https://localhost:8080/"
        },
        "id": "TTj1ewurf60W",
        "outputId": "66c4ba0b-9104-442a-a395-31068b037f48"
      },
      "execution_count": null,
      "outputs": [
        {
          "output_type": "stream",
          "name": "stdout",
          "text": [
            "Epoch    0/2000 Cost: 22642.416016\n",
            "Epoch  100/2000 Cost: 4.976951\n",
            "Epoch  200/2000 Cost: 4.733481\n",
            "Epoch  300/2000 Cost: 4.502824\n",
            "Epoch  400/2000 Cost: 4.284275\n",
            "Epoch  500/2000 Cost: 4.077209\n",
            "Epoch  600/2000 Cost: 3.881021\n",
            "Epoch  700/2000 Cost: 3.695124\n",
            "Epoch  800/2000 Cost: 3.519025\n",
            "Epoch  900/2000 Cost: 3.352130\n",
            "Epoch 1000/2000 Cost: 3.194023\n",
            "Epoch 1100/2000 Cost: 3.044178\n",
            "Epoch 1200/2000 Cost: 2.902206\n",
            "Epoch 1300/2000 Cost: 2.767665\n",
            "Epoch 1400/2000 Cost: 2.640176\n",
            "Epoch 1500/2000 Cost: 2.519374\n",
            "Epoch 1600/2000 Cost: 2.404892\n",
            "Epoch 1700/2000 Cost: 2.296402\n",
            "Epoch 1800/2000 Cost: 2.193589\n",
            "Epoch 1900/2000 Cost: 2.096157\n",
            "Epoch 2000/2000 Cost: 2.003828\n"
          ]
        }
      ]
    },
    {
      "cell_type": "code",
      "source": [
        "# 테스트 확인\n",
        "\n",
        "# 임의의 입력 [73, 80, 75]를 선언\n",
        "new_var =  torch.FloatTensor([[73, 80, 75]]) \n",
        "# 입력한 값 [73, 80, 75]에 대해서 예측값 y를 리턴받아서 pred_y에 저장\n",
        "pred_y = model(new_var) \n",
        "print(\"훈련 후 입력이 73, 80, 75일 때의 예측값 :\", pred_y) "
      ],
      "metadata": {
        "colab": {
          "base_uri": "https://localhost:8080/"
        },
        "id": "rTkfisTOf-eE",
        "outputId": "4883bbf9-cd0c-40b8-d35c-166fb6e18d94"
      },
      "execution_count": null,
      "outputs": [
        {
          "output_type": "stream",
          "name": "stdout",
          "text": [
            "훈련 후 입력이 73, 80, 75일 때의 예측값 : tensor([[152.9719]], grad_fn=<AddmmBackward0>)\n"
          ]
        }
      ]
    },
    {
      "cell_type": "markdown",
      "source": [
        "# 클래스로 파이토치 모델 구현하기"
      ],
      "metadata": {
        "id": "5SUOjVdsgW2p"
      }
    },
    {
      "cell_type": "code",
      "source": [
        "# 단순 회귀 모형\n",
        "class LinearRegressionModel(nn.Module):\n",
        "  def __init__(self):\n",
        "    super().__init__()\n",
        "    self.linear = nn.Linear(1, 1)\n",
        "\n",
        "  def forward(self, x):\n",
        "    return self.linear(x)"
      ],
      "metadata": {
        "id": "KJsXZxYxgG46"
      },
      "execution_count": null,
      "outputs": []
    },
    {
      "cell_type": "code",
      "source": [
        "model = LinearRegressionModel()"
      ],
      "metadata": {
        "id": "aIX0QCfThAZr"
      },
      "execution_count": null,
      "outputs": []
    },
    {
      "cell_type": "code",
      "source": [
        "# 다중 선형 회귀 모형\n",
        "\n",
        "class MultivariateLinearRegressionModel(nn.Module):\n",
        "    def __init__(self):\n",
        "        super().__init__()\n",
        "        self.linear = nn.Linear(3, 1) # 다중 선형 회귀이므로 input_dim=3, output_dim=1.\n",
        "\n",
        "    def forward(self, x):\n",
        "        return self.linear(x)"
      ],
      "metadata": {
        "id": "o46tjNqchEKs"
      },
      "execution_count": null,
      "outputs": []
    },
    {
      "cell_type": "code",
      "source": [
        "model = MultivariateLinearRegressionModel()"
      ],
      "metadata": {
        "id": "52UHYHcphnaO"
      },
      "execution_count": null,
      "outputs": []
    },
    {
      "cell_type": "code",
      "source": [
        "x_train = torch.FloatTensor([[73, 80, 75],\n",
        "                             [93, 88, 93],\n",
        "                             [89, 91, 90],\n",
        "                             [96, 98, 100],\n",
        "                             [73, 66, 70]])\n",
        "y_train = torch.FloatTensor([[152], [185], [180], [196], [142]])"
      ],
      "metadata": {
        "id": "RpU6ha2ehpMP"
      },
      "execution_count": null,
      "outputs": []
    },
    {
      "cell_type": "code",
      "source": [
        "optimizer = torch.optim.SGD(model.parameters(), lr=1e-5) "
      ],
      "metadata": {
        "id": "Hky5ftpthyrx"
      },
      "execution_count": null,
      "outputs": []
    },
    {
      "cell_type": "code",
      "source": [
        "nb_epochs = 2000\n",
        "for epoch in range(nb_epochs+1):\n",
        "\n",
        "    # H(x) 계산\n",
        "    prediction = model(x_train)\n",
        "    # model(x_train)은 model.forward(x_train)와 동일함.\n",
        "\n",
        "    # cost 계산\n",
        "    cost = F.mse_loss(prediction, y_train) # <== 파이토치에서 제공하는 평균 제곱 오차 함수\n",
        "\n",
        "    # cost로 H(x) 개선하는 부분\n",
        "    # gradient를 0으로 초기화\n",
        "    optimizer.zero_grad()\n",
        "    # 비용 함수를 미분하여 gradient 계산\n",
        "    cost.backward()\n",
        "    # W와 b를 업데이트\n",
        "    optimizer.step()\n",
        "\n",
        "    if epoch % 100 == 0:\n",
        "    # 100번마다 로그 출력\n",
        "      print('Epoch {:4d}/{} Cost: {:.6f}'.format(\n",
        "          epoch, nb_epochs, cost.item()\n",
        "      ))"
      ],
      "metadata": {
        "colab": {
          "base_uri": "https://localhost:8080/"
        },
        "id": "rU96Trwwh2PG",
        "outputId": "726b1746-a73a-4921-c4d6-b0ae517e4f25"
      },
      "execution_count": null,
      "outputs": [
        {
          "output_type": "stream",
          "name": "stdout",
          "text": [
            "Epoch    0/2000 Cost: 14769.426758\n",
            "Epoch  100/2000 Cost: 1.166562\n",
            "Epoch  200/2000 Cost: 1.142203\n",
            "Epoch  300/2000 Cost: 1.118994\n",
            "Epoch  400/2000 Cost: 1.096838\n",
            "Epoch  500/2000 Cost: 1.075743\n",
            "Epoch  600/2000 Cost: 1.055606\n",
            "Epoch  700/2000 Cost: 1.036410\n",
            "Epoch  800/2000 Cost: 1.018082\n",
            "Epoch  900/2000 Cost: 1.000591\n",
            "Epoch 1000/2000 Cost: 0.983879\n",
            "Epoch 1100/2000 Cost: 0.967934\n",
            "Epoch 1200/2000 Cost: 0.952685\n",
            "Epoch 1300/2000 Cost: 0.938099\n",
            "Epoch 1400/2000 Cost: 0.924163\n",
            "Epoch 1500/2000 Cost: 0.910819\n",
            "Epoch 1600/2000 Cost: 0.898071\n",
            "Epoch 1700/2000 Cost: 0.885854\n",
            "Epoch 1800/2000 Cost: 0.874139\n",
            "Epoch 1900/2000 Cost: 0.862928\n",
            "Epoch 2000/2000 Cost: 0.852171\n"
          ]
        }
      ]
    },
    {
      "cell_type": "markdown",
      "source": [
        "# 미니 배치와 데이터 로드(Mini Batch and Data Load)"
      ],
      "metadata": {
        "id": "fS4FGVaniXMf"
      }
    },
    {
      "cell_type": "code",
      "source": [
        "# 데이터셋\n",
        "x_train = torch.FloatTensor([[73, 80, 75],\n",
        "                             [93, 88, 93],\n",
        "                             [89, 91, 90],\n",
        "                             [96, 98, 100],\n",
        "                             [73, 66, 70]])\n",
        "y_train = torch.FloatTensor([[152], [185], [180], [196], [142]])"
      ],
      "metadata": {
        "id": "VaBWlqhciDjQ"
      },
      "execution_count": 2,
      "outputs": []
    },
    {
      "cell_type": "markdown",
      "source": [
        "배치 크기는 보통 2의 제곱수. CPU와 GPU의 메모리가 2의 배수이므로 데이터 송수신의 효율을 높일 수 있다."
      ],
      "metadata": {
        "id": "GsMNKng_Ml0B"
      }
    },
    {
      "cell_type": "markdown",
      "source": [
        "epoch: 전체 데이터 수만큼 데이터가 학습에 사용된 주기\n",
        "\n",
        "iteration: 가중치 업데이트 횟수 = 미니배치 한세트가 사용된 주기\n"
      ],
      "metadata": {
        "id": "VEmQfPwgM8Mx"
      }
    },
    {
      "cell_type": "code",
      "source": [
        "from torch.utils.data import TensorDataset # 텐서데이터셋\n",
        "from torch.utils.data import DataLoader # 데이터로더"
      ],
      "metadata": {
        "id": "PPj38t3Yicgy"
      },
      "execution_count": 3,
      "outputs": []
    },
    {
      "cell_type": "code",
      "source": [
        "x_train  =  torch.FloatTensor([[73,  80,  75], \n",
        "                               [93,  88,  93], \n",
        "                               [89,  91,  90], \n",
        "                               [96,  98,  100],   \n",
        "                               [73,  66,  70]])  \n",
        "y_train  =  torch.FloatTensor([[152],  [185],  [180],  [196],  [142]])"
      ],
      "metadata": {
        "id": "baM6gxtsNUR4"
      },
      "execution_count": 4,
      "outputs": []
    },
    {
      "cell_type": "code",
      "source": [
        "dataset = TensorDataset(x_train, y_train)"
      ],
      "metadata": {
        "id": "JxGuoZ3INYHf"
      },
      "execution_count": 5,
      "outputs": []
    },
    {
      "cell_type": "code",
      "source": [
        "dataloader = DataLoader(dataset, batch_size=2, shuffle=True)"
      ],
      "metadata": {
        "id": "5bPrmNLuNcCf"
      },
      "execution_count": 7,
      "outputs": []
    },
    {
      "cell_type": "code",
      "source": [
        "model = nn.Linear(3,1)\n",
        "optimizer = torch.optim.SGD(model.parameters(), lr=1e-5)"
      ],
      "metadata": {
        "id": "DOGuHg9DNdNT"
      },
      "execution_count": 8,
      "outputs": []
    },
    {
      "cell_type": "code",
      "source": [
        "nb_epochs = 20\n",
        "for epoch in range(nb_epochs + 1):\n",
        "  for batch_idx, samples in enumerate(dataloader):\n",
        "    print(batch_idx)\n",
        "    print(samples)\n",
        "    x_train, y_train = samples\n",
        "    # H(x) 계산\n",
        "    prediction = model(x_train)\n",
        "\n",
        "    # cost 계산\n",
        "    cost = F.mse_loss(prediction, y_train)\n",
        "\n",
        "    # cost로 H(x) 계산\n",
        "    optimizer.zero_grad()\n",
        "    cost.backward()\n",
        "    optimizer.step()\n",
        "\n",
        "    print('Epoch {:4d}/{} Batch {}/{} Cost: {:.6f}'.format(\n",
        "        epoch, nb_epochs, batch_idx+1, len(dataloader),\n",
        "        cost.item()\n",
        "        ))"
      ],
      "metadata": {
        "id": "OpCWkCWpOD-v"
      },
      "execution_count": null,
      "outputs": []
    },
    {
      "cell_type": "code",
      "source": [
        "# 임의의 입력 [73, 80, 75]를 선언\n",
        "new_var =  torch.FloatTensor([[73, 80, 75]]) \n",
        "# 입력한 값 [73, 80, 75]에 대해서 예측값 y를 리턴받아서 pred_y에 저장\n",
        "pred_y = model(new_var) \n",
        "print(\"훈련 후 입력이 73, 80, 75일 때의 예측값 :\", pred_y) "
      ],
      "metadata": {
        "colab": {
          "base_uri": "https://localhost:8080/"
        },
        "id": "Vb028E0mOMPs",
        "outputId": "4c96ddd7-1df1-493b-e799-0fe68d70946b"
      },
      "execution_count": 10,
      "outputs": [
        {
          "output_type": "stream",
          "name": "stdout",
          "text": [
            "훈련 후 입력이 73, 80, 75일 때의 예측값 : tensor([[152.2338]], grad_fn=<AddmmBackward0>)\n"
          ]
        }
      ]
    },
    {
      "cell_type": "markdown",
      "source": [
        "# 커스텀 데이터셋"
      ],
      "metadata": {
        "id": "o2gZQHG0Ufof"
      }
    },
    {
      "cell_type": "code",
      "source": [
        "class CustomDataset(torch.utils.data.Dataset): \n",
        "  def __init__(self):\n",
        "  데이터셋의 전처리를 해주는 부분\n",
        "\n",
        "  def __len__(self):\n",
        "  데이터셋의 길이. 즉, 총 샘플의 수를 적어주는 부분\n",
        "\n",
        "  def __getitem__(self, idx): \n",
        "  데이터셋에서 특정 1개의 샘플을 가져오는 함수"
      ],
      "metadata": {
        "id": "CF7bWnOgRwOd"
      },
      "execution_count": null,
      "outputs": []
    },
    {
      "cell_type": "code",
      "source": [
        "import torch\n",
        "import torch.nn.functional as F\n",
        "from torch.utils.data import Dataset\n",
        "from torch.utils.data import DataLoader"
      ],
      "metadata": {
        "id": "StupFE5-VRIZ"
      },
      "execution_count": 11,
      "outputs": []
    },
    {
      "cell_type": "code",
      "source": [
        "# Dataset 상속\n",
        "class CustomDataset(Dataset): \n",
        "  def __init__(self):\n",
        "    self.x_data = [[73, 80, 75],\n",
        "                   [93, 88, 93],\n",
        "                   [89, 91, 90],\n",
        "                   [96, 98, 100],\n",
        "                   [73, 66, 70]]\n",
        "    self.y_data = [[152], [185], [180], [196], [142]]\n",
        "\n",
        "  # 총 데이터의 개수를 리턴\n",
        "  def __len__(self): \n",
        "    return len(self.x_data)\n",
        "\n",
        "  # 인덱스를 입력받아 그에 맵핑되는 입출력 데이터를 파이토치의 Tensor 형태로 리턴\n",
        "  def __getitem__(self, idx): \n",
        "    x = torch.FloatTensor(self.x_data[idx])\n",
        "    y = torch.FloatTensor(self.y_data[idx])\n",
        "    return x, y"
      ],
      "metadata": {
        "id": "ruVJOXy2VMwR"
      },
      "execution_count": 12,
      "outputs": []
    },
    {
      "cell_type": "code",
      "source": [
        "dataset = CustomDataset()\n",
        "dataloader = DataLoader(dataset, batch_size=2, shuffle=True)"
      ],
      "metadata": {
        "id": "D0g4QR1WWgxX"
      },
      "execution_count": 23,
      "outputs": []
    },
    {
      "cell_type": "code",
      "source": [
        "model = torch.nn.Linear(3,1)\n",
        "optimizer = torch.optim.SGD(model.parameters(), lr=1e-5) "
      ],
      "metadata": {
        "id": "jQkm0AK7WkO-"
      },
      "execution_count": 24,
      "outputs": []
    },
    {
      "cell_type": "code",
      "source": [
        "nb_epochs = 20\n",
        "for epoch in range(nb_epochs + 1):\n",
        "  for batch_idx, samples in enumerate(dataloader):\n",
        "    print(batch_idx)\n",
        "    print(samples)\n",
        "    x_train, y_train = samples\n",
        "    # H(x) 계산\n",
        "    prediction = model(x_train)\n",
        "\n",
        "    # cost 계산\n",
        "    cost = F.mse_loss(prediction, y_train)\n",
        "\n",
        "    # cost로 H(x) 계산\n",
        "    optimizer.zero_grad()\n",
        "    cost.backward()\n",
        "    optimizer.step()\n",
        "\n",
        "    print('Epoch {:4d}/{} Batch {}/{} Cost: {:.6f}'.format(\n",
        "        epoch, nb_epochs, batch_idx+1, len(dataloader),\n",
        "        cost.item()\n",
        "        ))"
      ],
      "metadata": {
        "colab": {
          "base_uri": "https://localhost:8080/"
        },
        "id": "TKavFgunW-za",
        "outputId": "dad9c67e-07a1-4ee8-a9b1-b3f718be0ec1"
      },
      "execution_count": 29,
      "outputs": [
        {
          "output_type": "stream",
          "name": "stdout",
          "text": [
            "0\n",
            "[tensor([[89., 91., 90.],\n",
            "        [73., 80., 75.]]), tensor([[180.],\n",
            "        [152.]])]\n",
            "Epoch    0/20 Batch 1/3 Cost: 19.014145\n",
            "1\n",
            "[tensor([[ 96.,  98., 100.],\n",
            "        [ 93.,  88.,  93.]]), tensor([[196.],\n",
            "        [185.]])]\n",
            "Epoch    0/20 Batch 2/3 Cost: 6.670696\n",
            "2\n",
            "[tensor([[73., 66., 70.]]), tensor([[142.]])]\n",
            "Epoch    0/20 Batch 3/3 Cost: 10.799471\n",
            "0\n",
            "[tensor([[93., 88., 93.],\n",
            "        [89., 91., 90.]]), tensor([[185.],\n",
            "        [180.]])]\n",
            "Epoch    1/20 Batch 1/3 Cost: 7.933488\n",
            "1\n",
            "[tensor([[ 73.,  66.,  70.],\n",
            "        [ 96.,  98., 100.]]), tensor([[142.],\n",
            "        [196.]])]\n",
            "Epoch    1/20 Batch 2/3 Cost: 5.851272\n",
            "2\n",
            "[tensor([[73., 80., 75.]]), tensor([[152.]])]\n",
            "Epoch    1/20 Batch 3/3 Cost: 22.008291\n",
            "0\n",
            "[tensor([[73., 80., 75.],\n",
            "        [73., 66., 70.]]), tensor([[152.],\n",
            "        [142.]])]\n",
            "Epoch    2/20 Batch 1/3 Cost: 13.647506\n",
            "1\n",
            "[tensor([[ 96.,  98., 100.],\n",
            "        [ 93.,  88.,  93.]]), tensor([[196.],\n",
            "        [185.]])]\n",
            "Epoch    2/20 Batch 2/3 Cost: 7.637679\n",
            "2\n",
            "[tensor([[89., 91., 90.]]), tensor([[180.]])]\n",
            "Epoch    2/20 Batch 3/3 Cost: 5.235756\n",
            "0\n",
            "[tensor([[73., 80., 75.],\n",
            "        [93., 88., 93.]]), tensor([[152.],\n",
            "        [185.]])]\n",
            "Epoch    3/20 Batch 1/3 Cost: 13.008662\n",
            "1\n",
            "[tensor([[89., 91., 90.],\n",
            "        [73., 66., 70.]]), tensor([[180.],\n",
            "        [142.]])]\n",
            "Epoch    3/20 Batch 2/3 Cost: 8.985366\n",
            "2\n",
            "[tensor([[ 96.,  98., 100.]]), tensor([[196.]])]\n",
            "Epoch    3/20 Batch 3/3 Cost: 0.544046\n",
            "0\n",
            "[tensor([[89., 91., 90.],\n",
            "        [73., 80., 75.]]), tensor([[180.],\n",
            "        [152.]])]\n",
            "Epoch    4/20 Batch 1/3 Cost: 6.768591\n",
            "1\n",
            "[tensor([[73., 66., 70.],\n",
            "        [93., 88., 93.]]), tensor([[142.],\n",
            "        [185.]])]\n",
            "Epoch    4/20 Batch 2/3 Cost: 22.949759\n",
            "2\n",
            "[tensor([[ 96.,  98., 100.]]), tensor([[196.]])]\n",
            "Epoch    4/20 Batch 3/3 Cost: 2.038164\n",
            "0\n",
            "[tensor([[93., 88., 93.],\n",
            "        [73., 80., 75.]]), tensor([[185.],\n",
            "        [152.]])]\n",
            "Epoch    5/20 Batch 1/3 Cost: 12.327257\n",
            "1\n",
            "[tensor([[ 96.,  98., 100.],\n",
            "        [ 89.,  91.,  90.]]), tensor([[196.],\n",
            "        [180.]])]\n",
            "Epoch    5/20 Batch 2/3 Cost: 2.106660\n",
            "2\n",
            "[tensor([[73., 66., 70.]]), tensor([[142.]])]\n",
            "Epoch    5/20 Batch 3/3 Cost: 17.375399\n",
            "0\n",
            "[tensor([[ 93.,  88.,  93.],\n",
            "        [ 96.,  98., 100.]]), tensor([[185.],\n",
            "        [196.]])]\n",
            "Epoch    6/20 Batch 1/3 Cost: 4.378144\n",
            "1\n",
            "[tensor([[89., 91., 90.],\n",
            "        [73., 80., 75.]]), tensor([[180.],\n",
            "        [152.]])]\n",
            "Epoch    6/20 Batch 2/3 Cost: 14.732690\n",
            "2\n",
            "[tensor([[73., 66., 70.]]), tensor([[142.]])]\n",
            "Epoch    6/20 Batch 3/3 Cost: 17.004297\n",
            "0\n",
            "[tensor([[89., 91., 90.],\n",
            "        [93., 88., 93.]]), tensor([[180.],\n",
            "        [185.]])]\n",
            "Epoch    7/20 Batch 1/3 Cost: 6.889440\n",
            "1\n",
            "[tensor([[ 96.,  98., 100.],\n",
            "        [ 73.,  66.,  70.]]), tensor([[196.],\n",
            "        [142.]])]\n",
            "Epoch    7/20 Batch 2/3 Cost: 5.861644\n",
            "2\n",
            "[tensor([[73., 80., 75.]]), tensor([[152.]])]\n",
            "Epoch    7/20 Batch 3/3 Cost: 20.026636\n",
            "0\n",
            "[tensor([[93., 88., 93.],\n",
            "        [73., 66., 70.]]), tensor([[185.],\n",
            "        [142.]])]\n",
            "Epoch    8/20 Batch 1/3 Cost: 18.193106\n",
            "1\n",
            "[tensor([[ 89.,  91.,  90.],\n",
            "        [ 96.,  98., 100.]]), tensor([[180.],\n",
            "        [196.]])]\n",
            "Epoch    8/20 Batch 2/3 Cost: 5.797464\n",
            "2\n",
            "[tensor([[73., 80., 75.]]), tensor([[152.]])]\n",
            "Epoch    8/20 Batch 3/3 Cost: 12.161507\n",
            "0\n",
            "[tensor([[ 93.,  88.,  93.],\n",
            "        [ 96.,  98., 100.]]), tensor([[185.],\n",
            "        [196.]])]\n",
            "Epoch    9/20 Batch 1/3 Cost: 12.918157\n",
            "1\n",
            "[tensor([[73., 80., 75.],\n",
            "        [73., 66., 70.]]), tensor([[152.],\n",
            "        [142.]])]\n",
            "Epoch    9/20 Batch 2/3 Cost: 13.285643\n",
            "2\n",
            "[tensor([[89., 91., 90.]]), tensor([[180.]])]\n",
            "Epoch    9/20 Batch 3/3 Cost: 3.101341\n",
            "0\n",
            "[tensor([[ 93.,  88.,  93.],\n",
            "        [ 96.,  98., 100.]]), tensor([[185.],\n",
            "        [196.]])]\n",
            "Epoch   10/20 Batch 1/3 Cost: 9.480531\n",
            "1\n",
            "[tensor([[73., 80., 75.],\n",
            "        [73., 66., 70.]]), tensor([[152.],\n",
            "        [142.]])]\n",
            "Epoch   10/20 Batch 2/3 Cost: 13.346666\n",
            "2\n",
            "[tensor([[89., 91., 90.]]), tensor([[180.]])]\n",
            "Epoch   10/20 Batch 3/3 Cost: 3.826269\n",
            "0\n",
            "[tensor([[93., 88., 93.],\n",
            "        [73., 80., 75.]]), tensor([[185.],\n",
            "        [152.]])]\n",
            "Epoch   11/20 Batch 1/3 Cost: 13.119347\n",
            "1\n",
            "[tensor([[89., 91., 90.],\n",
            "        [73., 66., 70.]]), tensor([[180.],\n",
            "        [142.]])]\n",
            "Epoch   11/20 Batch 2/3 Cost: 9.013278\n",
            "2\n",
            "[tensor([[ 96.,  98., 100.]]), tensor([[196.]])]\n",
            "Epoch   11/20 Batch 3/3 Cost: 0.444655\n",
            "0\n",
            "[tensor([[ 96.,  98., 100.],\n",
            "        [ 93.,  88.,  93.]]), tensor([[196.],\n",
            "        [185.]])]\n",
            "Epoch   12/20 Batch 1/3 Cost: 6.992849\n",
            "1\n",
            "[tensor([[73., 80., 75.],\n",
            "        [89., 91., 90.]]), tensor([[152.],\n",
            "        [180.]])]\n",
            "Epoch   12/20 Batch 2/3 Cost: 10.794837\n",
            "2\n",
            "[tensor([[73., 66., 70.]]), tensor([[142.]])]\n",
            "Epoch   12/20 Batch 3/3 Cost: 19.146767\n",
            "0\n",
            "[tensor([[73., 66., 70.],\n",
            "        [93., 88., 93.]]), tensor([[142.],\n",
            "        [185.]])]\n",
            "Epoch   13/20 Batch 1/3 Cost: 8.212595\n",
            "1\n",
            "[tensor([[73., 80., 75.],\n",
            "        [89., 91., 90.]]), tensor([[152.],\n",
            "        [180.]])]\n",
            "Epoch   13/20 Batch 2/3 Cost: 21.127203\n",
            "2\n",
            "[tensor([[ 96.,  98., 100.]]), tensor([[196.]])]\n",
            "Epoch   13/20 Batch 3/3 Cost: 0.392611\n",
            "0\n",
            "[tensor([[89., 91., 90.],\n",
            "        [73., 80., 75.]]), tensor([[180.],\n",
            "        [152.]])]\n",
            "Epoch   14/20 Batch 1/3 Cost: 6.477863\n",
            "1\n",
            "[tensor([[ 96.,  98., 100.],\n",
            "        [ 93.,  88.,  93.]]), tensor([[196.],\n",
            "        [185.]])]\n",
            "Epoch   14/20 Batch 2/3 Cost: 11.824841\n",
            "2\n",
            "[tensor([[73., 66., 70.]]), tensor([[142.]])]\n",
            "Epoch   14/20 Batch 3/3 Cost: 13.438776\n",
            "0\n",
            "[tensor([[ 96.,  98., 100.],\n",
            "        [ 93.,  88.,  93.]]), tensor([[196.],\n",
            "        [185.]])]\n",
            "Epoch   15/20 Batch 1/3 Cost: 4.276583\n",
            "1\n",
            "[tensor([[89., 91., 90.],\n",
            "        [73., 66., 70.]]), tensor([[180.],\n",
            "        [142.]])]\n",
            "Epoch   15/20 Batch 2/3 Cost: 8.499255\n",
            "2\n",
            "[tensor([[73., 80., 75.]]), tensor([[152.]])]\n",
            "Epoch   15/20 Batch 3/3 Cost: 19.849897\n",
            "0\n",
            "[tensor([[73., 66., 70.],\n",
            "        [93., 88., 93.]]), tensor([[142.],\n",
            "        [185.]])]\n",
            "Epoch   16/20 Batch 1/3 Cost: 17.862833\n",
            "1\n",
            "[tensor([[73., 80., 75.],\n",
            "        [89., 91., 90.]]), tensor([[152.],\n",
            "        [180.]])]\n",
            "Epoch   16/20 Batch 2/3 Cost: 14.088205\n",
            "2\n",
            "[tensor([[ 96.,  98., 100.]]), tensor([[196.]])]\n",
            "Epoch   16/20 Batch 3/3 Cost: 0.001107\n",
            "0\n",
            "[tensor([[93., 88., 93.],\n",
            "        [89., 91., 90.]]), tensor([[185.],\n",
            "        [180.]])]\n",
            "Epoch   17/20 Batch 1/3 Cost: 8.635050\n",
            "1\n",
            "[tensor([[73., 66., 70.],\n",
            "        [73., 80., 75.]]), tensor([[142.],\n",
            "        [152.]])]\n",
            "Epoch   17/20 Batch 2/3 Cost: 13.124378\n",
            "2\n",
            "[tensor([[ 96.,  98., 100.]]), tensor([[196.]])]\n",
            "Epoch   17/20 Batch 3/3 Cost: 0.449716\n",
            "0\n",
            "[tensor([[73., 66., 70.],\n",
            "        [93., 88., 93.]]), tensor([[142.],\n",
            "        [185.]])]\n",
            "Epoch   18/20 Batch 1/3 Cost: 14.597800\n",
            "1\n",
            "[tensor([[ 96.,  98., 100.],\n",
            "        [ 73.,  80.,  75.]]), tensor([[196.],\n",
            "        [152.]])]\n",
            "Epoch   18/20 Batch 2/3 Cost: 13.109552\n",
            "2\n",
            "[tensor([[89., 91., 90.]]), tensor([[180.]])]\n",
            "Epoch   18/20 Batch 3/3 Cost: 2.692752\n",
            "0\n",
            "[tensor([[ 96.,  98., 100.],\n",
            "        [ 73.,  66.,  70.]]), tensor([[196.],\n",
            "        [142.]])]\n",
            "Epoch   19/20 Batch 1/3 Cost: 9.920743\n",
            "1\n",
            "[tensor([[93., 88., 93.],\n",
            "        [73., 80., 75.]]), tensor([[185.],\n",
            "        [152.]])]\n",
            "Epoch   19/20 Batch 2/3 Cost: 12.020702\n",
            "2\n",
            "[tensor([[89., 91., 90.]]), tensor([[180.]])]\n",
            "Epoch   19/20 Batch 3/3 Cost: 3.638968\n",
            "0\n",
            "[tensor([[93., 88., 93.],\n",
            "        [73., 66., 70.]]), tensor([[185.],\n",
            "        [142.]])]\n",
            "Epoch   20/20 Batch 1/3 Cost: 18.290043\n",
            "1\n",
            "[tensor([[ 89.,  91.,  90.],\n",
            "        [ 96.,  98., 100.]]), tensor([[180.],\n",
            "        [196.]])]\n",
            "Epoch   20/20 Batch 2/3 Cost: 5.536715\n",
            "2\n",
            "[tensor([[73., 80., 75.]]), tensor([[152.]])]\n",
            "Epoch   20/20 Batch 3/3 Cost: 11.788623\n"
          ]
        }
      ]
    },
    {
      "cell_type": "code",
      "source": [
        "# 임의의 입력 [73, 80, 75]를 선언\n",
        "new_var =  torch.FloatTensor([[73, 80, 75]]) \n",
        "# 입력한 값 [73, 80, 75]에 대해서 예측값 y를 리턴받아서 pred_y에 저장\n",
        "pred_y = model(new_var) \n",
        "print(\"훈련 후 입력이 73, 80, 75일 때의 예측값 :\", pred_y) "
      ],
      "metadata": {
        "colab": {
          "base_uri": "https://localhost:8080/"
        },
        "id": "5PFgB9FpXd37",
        "outputId": "35f8f5f7-d938-49e9-c343-857b501ee9ee"
      },
      "execution_count": 30,
      "outputs": [
        {
          "output_type": "stream",
          "name": "stdout",
          "text": [
            "훈련 후 입력이 73, 80, 75일 때의 예측값 : tensor([[154.2417]], grad_fn=<AddmmBackward0>)\n"
          ]
        }
      ]
    },
    {
      "cell_type": "code",
      "source": [],
      "metadata": {
        "id": "QFMoj8R9YI_p"
      },
      "execution_count": null,
      "outputs": []
    }
  ]
}